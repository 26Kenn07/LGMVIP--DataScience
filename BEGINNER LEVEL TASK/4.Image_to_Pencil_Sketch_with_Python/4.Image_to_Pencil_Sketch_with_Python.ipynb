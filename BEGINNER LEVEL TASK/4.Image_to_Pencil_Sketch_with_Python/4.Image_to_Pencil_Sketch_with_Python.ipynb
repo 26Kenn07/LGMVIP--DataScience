{
 "cells": [
  {
   "cell_type": "code",
   "execution_count": 1,
   "id": "e9ce6b1d",
   "metadata": {},
   "outputs": [],
   "source": [
    "import cv2"
   ]
  },
  {
   "cell_type": "code",
   "execution_count": 2,
   "id": "1faa5500",
   "metadata": {},
   "outputs": [],
   "source": [
    "#Original image\n",
    "image = cv2.imread(\"/Users/kirtan/Downloads/download (3).jpeg\")"
   ]
  },
  {
   "cell_type": "code",
   "execution_count": 3,
   "id": "71c4e6db",
   "metadata": {},
   "outputs": [],
   "source": [
    "#Convert original image into B&W image\n",
    "gray_image = cv2.cvtColor(image, cv2.COLOR_BGR2GRAY)"
   ]
  },
  {
   "cell_type": "code",
   "execution_count": 4,
   "id": "0b264755",
   "metadata": {},
   "outputs": [],
   "source": [
    "#invert the colours of the image\n",
    "inverted_image = 255 - gray_image"
   ]
  },
  {
   "cell_type": "code",
   "execution_count": 5,
   "id": "4b098f02",
   "metadata": {},
   "outputs": [],
   "source": [
    "#blur the colours of image\n",
    "blurred = cv2.GaussianBlur(inverted_image, (21, 21), 0)"
   ]
  },
  {
   "cell_type": "code",
   "execution_count": 6,
   "id": "40ef747d",
   "metadata": {},
   "outputs": [],
   "source": [
    "#invert the blurred colours\n",
    "inverted_blurred = 255 - blurred"
   ]
  },
  {
   "cell_type": "code",
   "execution_count": 7,
   "id": "fa1974b3",
   "metadata": {},
   "outputs": [],
   "source": [
    "#Apply pencil sketch effect by blending grayscale image with inverted and blurred version\n",
    "#Scale the resulting image pixel values to 0-255 range using scale=256.0 parameter.\n",
    "pencil_sketch = cv2.divide(gray_image, inverted_blurred, scale=256.0)"
   ]
  },
  {
   "cell_type": "code",
   "execution_count": 8,
   "id": "cfb391a7",
   "metadata": {},
   "outputs": [],
   "source": [
    "cv2.imshow(\"original image\", image)\n",
    "cv2.imshow(\"pencil sketch\", pencil_sketch)\n",
    "cv2.waitKey(1)\n",
    "cv2.destroyAllWindows()"
   ]
  },
  {
   "cell_type": "code",
   "execution_count": null,
   "id": "45e74a79",
   "metadata": {},
   "outputs": [],
   "source": []
  }
 ],
 "metadata": {
  "kernelspec": {
   "display_name": "Python 3 (ipykernel)",
   "language": "python",
   "name": "python3"
  },
  "language_info": {
   "codemirror_mode": {
    "name": "ipython",
    "version": 3
   },
   "file_extension": ".py",
   "mimetype": "text/x-python",
   "name": "python",
   "nbconvert_exporter": "python",
   "pygments_lexer": "ipython3",
   "version": "3.9.13"
  }
 },
 "nbformat": 4,
 "nbformat_minor": 5
}
