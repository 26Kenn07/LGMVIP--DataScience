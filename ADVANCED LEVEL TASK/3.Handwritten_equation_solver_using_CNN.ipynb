{
 "cells": [
  {
   "cell_type": "code",
   "execution_count": 1,
   "id": "bf355ed3",
   "metadata": {},
   "outputs": [],
   "source": [
    "import numpy as np\n",
    "import cv2\n",
    "from PIL import Image\n",
    "from matplotlib import pyplot as plt\n",
    "%matplotlib inline\n",
    "import os\n",
    "from os import listdir\n",
    "from os.path import isfile, join\n",
    "import pandas as pd"
   ]
  },
  {
   "cell_type": "code",
   "execution_count": 2,
   "id": "38a8b757",
   "metadata": {},
   "outputs": [],
   "source": [
    "def load_img(folder):\n",
    "    train_data=[]\n",
    "    for filename in os.listdir(folder):\n",
    "        img = cv2.imread(os.path.join(folder,filename),cv2.IMREAD_GRAYSCALE)\n",
    "        img =img\n",
    "        if img is not None:\n",
    "            ret,thresh=cv2.threshold(img,127,255,cv2.THRESH_BINARY)\n",
    "            \n",
    "            ctrs,ret = cv2.findContours(thresh,cv2.RETR_EXTERNAL,cv2.CHAIN_APPROX_NONE)\n",
    "            cnt = sorted(ctrs,key=lambda ctr: cv2.boundingRect(ctr)[0])\n",
    "            w = int(28)\n",
    "            h = int(28)\n",
    "            maxi = 0\n",
    "            for c in cnt:\n",
    "                x,y,width,height = cv2.boundingRect(c)\n",
    "                area = width * height\n",
    "                if area > maxi:\n",
    "                    maxi = area\n",
    "                    x_max = x\n",
    "                    y_max = y\n",
    "                    w_max = width\n",
    "                    h_max = height\n",
    "          \n",
    "            img_crop = thresh[y_max:y_max+h_max+10,x_max : x_max+w_max+10]                 \n",
    "            img_resize = cv2.resize(img_crop, (28, 28))\n",
    "            img_resize = np.reshape(img_resize,(784,1))\n",
    "            train_data.append(img_resize)\n",
    "    return train_data "
   ]
  },
  {
   "cell_type": "code",
   "execution_count": 3,
   "id": "bcc129de",
   "metadata": {},
   "outputs": [],
   "source": [
    "data = []"
   ]
  },
  {
   "cell_type": "markdown",
   "id": "23875073",
   "metadata": {},
   "source": [
    "# Assign - = 10"
   ]
  },
  {
   "cell_type": "code",
   "execution_count": 4,
   "id": "0d1dedef",
   "metadata": {},
   "outputs": [
    {
     "name": "stdout",
     "output_type": "stream",
     "text": [
      "33997\n"
     ]
    }
   ],
   "source": [
    "data = load_img(\"/Users/kirtan/Downloads/archive (1)/extracted_images/-\")\n",
    "for i in range(len(data)):\n",
    "    data[i] = np.append(data[i], ['10'])\n",
    "\n",
    "print(len(data))\n"
   ]
  },
  {
   "cell_type": "markdown",
   "id": "5bdc8865",
   "metadata": {},
   "source": [
    "# Assign + = 11"
   ]
  },
  {
   "cell_type": "code",
   "execution_count": 5,
   "id": "8b2d932f",
   "metadata": {},
   "outputs": [
    {
     "name": "stdout",
     "output_type": "stream",
     "text": [
      "59109\n"
     ]
    }
   ],
   "source": [
    "data11 = load_img(\"/Users/kirtan/Downloads/archive (1)/extracted_images/+\")\n",
    "for i in range(0,len(data11)):\n",
    "    data11[i] = np.append(data11[i], ['11'])\n",
    "data=np.concatenate((data,data11))\n",
    "\n",
    "print(len(data))\n"
   ]
  },
  {
   "cell_type": "markdown",
   "id": "cbdc139f",
   "metadata": {},
   "source": [
    "# Adding 0 to 9"
   ]
  },
  {
   "cell_type": "code",
   "execution_count": 6,
   "id": "ddce98cb",
   "metadata": {},
   "outputs": [
    {
     "name": "stdout",
     "output_type": "stream",
     "text": [
      "66023\n"
     ]
    }
   ],
   "source": [
    "data0 = load_img(\"/Users/kirtan/Downloads/archive (1)/extracted_images/0\")\n",
    "for i in range(0,len(data0)):\n",
    "    data0[i] = np.append(data0[i], ['0'])\n",
    "data=np.concatenate((data,data0))\n",
    "\n",
    "print(len(data))"
   ]
  },
  {
   "cell_type": "code",
   "execution_count": 7,
   "id": "2bf38419",
   "metadata": {},
   "outputs": [
    {
     "name": "stdout",
     "output_type": "stream",
     "text": [
      "92543\n"
     ]
    }
   ],
   "source": [
    "data1 = load_img(\"/Users/kirtan/Downloads/archive (1)/extracted_images/1\")\n",
    "for i in range(0,len(data1)):\n",
    "    data1[i] = np.append(data1[i], ['1'])\n",
    "data=np.concatenate((data,data1))\n",
    "\n",
    "print(len(data))\n"
   ]
  },
  {
   "cell_type": "code",
   "execution_count": 8,
   "id": "105e9c65",
   "metadata": {},
   "outputs": [
    {
     "name": "stdout",
     "output_type": "stream",
     "text": [
      "118684\n"
     ]
    }
   ],
   "source": [
    "data2 = load_img(\"/Users/kirtan/Downloads/archive (1)/extracted_images/2\")\n",
    "for i in range(0,len(data2)):\n",
    "    data2[i] = np.append(data2[i], ['2'])\n",
    "data=np.concatenate((data,data2))\n",
    "\n",
    "print(len(data))\n"
   ]
  },
  {
   "cell_type": "code",
   "execution_count": 9,
   "id": "509f2e0a",
   "metadata": {},
   "outputs": [
    {
     "name": "stdout",
     "output_type": "stream",
     "text": [
      "129593\n"
     ]
    }
   ],
   "source": [
    "data3 = load_img(\"/Users/kirtan/Downloads/archive (1)/extracted_images/3\")\n",
    "for i in range(0,len(data3)):\n",
    "    data3[i] = np.append(data3[i], ['3'])\n",
    "data=np.concatenate((data,data3))\n",
    "\n",
    "print(len(data))\n"
   ]
  },
  {
   "cell_type": "code",
   "execution_count": 10,
   "id": "926d5446",
   "metadata": {},
   "outputs": [
    {
     "name": "stdout",
     "output_type": "stream",
     "text": [
      "136989\n"
     ]
    }
   ],
   "source": [
    "data4 = load_img(\"/Users/kirtan/Downloads/archive (1)/extracted_images/4\")\n",
    "for i in range(0,len(data4)):\n",
    "    data4[i] = np.append(data4[i], ['4'])\n",
    "data=np.concatenate((data,data4))\n",
    "\n",
    "print(len(data))\n"
   ]
  },
  {
   "cell_type": "code",
   "execution_count": 11,
   "id": "c264a34e",
   "metadata": {},
   "outputs": [
    {
     "name": "stdout",
     "output_type": "stream",
     "text": [
      "140534\n"
     ]
    }
   ],
   "source": [
    "data5 = load_img(\"/Users/kirtan/Downloads/archive (1)/extracted_images/5\")\n",
    "for i in range(0,len(data5)):\n",
    "    data5[i] = np.append(data5[i], ['5'])\n",
    "data=np.concatenate((data,data5))\n",
    "\n",
    "print(len(data))\n"
   ]
  },
  {
   "cell_type": "code",
   "execution_count": 12,
   "id": "6fa73f28",
   "metadata": {},
   "outputs": [
    {
     "name": "stdout",
     "output_type": "stream",
     "text": [
      "143652\n"
     ]
    }
   ],
   "source": [
    "data6 = load_img(\"/Users/kirtan/Downloads/archive (1)/extracted_images/6\")\n",
    "for i in range(0,len(data6)):\n",
    "    data6[i] = np.append(data6[i], ['6'])\n",
    "data=np.concatenate((data,data6))\n",
    "\n",
    "print(len(data))\n"
   ]
  },
  {
   "cell_type": "code",
   "execution_count": 13,
   "id": "e631cd36",
   "metadata": {},
   "outputs": [
    {
     "name": "stdout",
     "output_type": "stream",
     "text": [
      "146561\n"
     ]
    }
   ],
   "source": [
    "data7 = load_img(\"/Users/kirtan/Downloads/archive (1)/extracted_images/7\")\n",
    "for i in range(0,len(data7)):\n",
    "    data7[i] = np.append(data7[i], ['7'])\n",
    "data=np.concatenate((data,data7))\n",
    "\n",
    "print(len(data))\n"
   ]
  },
  {
   "cell_type": "code",
   "execution_count": 14,
   "id": "4f4fdb81",
   "metadata": {},
   "outputs": [
    {
     "name": "stdout",
     "output_type": "stream",
     "text": [
      "149629\n"
     ]
    }
   ],
   "source": [
    "data8 = load_img(\"/Users/kirtan/Downloads/archive (1)/extracted_images/8\")\n",
    "for i in range(0,len(data8)):\n",
    "    data8[i] = np.append(data8[i], ['8'])\n",
    "data=np.concatenate((data,data8))\n",
    "\n",
    "print(len(data))\n"
   ]
  },
  {
   "cell_type": "code",
   "execution_count": 15,
   "id": "f95bdb9b",
   "metadata": {},
   "outputs": [
    {
     "name": "stdout",
     "output_type": "stream",
     "text": [
      "153366\n"
     ]
    }
   ],
   "source": [
    "data9 = load_img(\"/Users/kirtan/Downloads/archive (1)/extracted_images/9\")\n",
    "for i in range(0,len(data9)):\n",
    "    data9[i] = np.append(data9[i], ['9'])\n",
    "data=np.concatenate((data,data9))\n",
    "\n",
    "print(len(data))\n"
   ]
  },
  {
   "cell_type": "code",
   "execution_count": 16,
   "id": "992e8afd",
   "metadata": {},
   "outputs": [
    {
     "name": "stdout",
     "output_type": "stream",
     "text": [
      "156617\n"
     ]
    }
   ],
   "source": [
    "data12 = load_img(\"/Users/kirtan/Downloads/archive (1)/extracted_images/times\")\n",
    "for i in range(0,len(data12)):\n",
    "    data12[i] = np.append(data12[i], ['12'])\n",
    "data=np.concatenate((data,data12))\n",
    "\n",
    "print(len(data))\n"
   ]
  },
  {
   "cell_type": "markdown",
   "id": "6511da16",
   "metadata": {},
   "source": [
    "# Make  a .csv file of the collected data"
   ]
  },
  {
   "cell_type": "code",
   "execution_count": 17,
   "id": "cb9dc3d9",
   "metadata": {},
   "outputs": [],
   "source": [
    "df = pd.DataFrame(data,index=None)\n",
    "df.to_csv('Kirtan_Trains.csv',index=False)"
   ]
  },
  {
   "cell_type": "markdown",
   "id": "9c13f5d5",
   "metadata": {},
   "source": [
    "# Read the data of the file"
   ]
  },
  {
   "cell_type": "code",
   "execution_count": 72,
   "id": "be821094",
   "metadata": {},
   "outputs": [],
   "source": [
    "df_train = pd.read_csv('/Users/kirtan/Kirtan_Trains.csv',index_col=False)\n",
    "labels = df_train[['784']]\n"
   ]
  },
  {
   "cell_type": "code",
   "execution_count": 73,
   "id": "fc806b21",
   "metadata": {},
   "outputs": [
    {
     "data": {
      "text/html": [
       "<div>\n",
       "<style scoped>\n",
       "    .dataframe tbody tr th:only-of-type {\n",
       "        vertical-align: middle;\n",
       "    }\n",
       "\n",
       "    .dataframe tbody tr th {\n",
       "        vertical-align: top;\n",
       "    }\n",
       "\n",
       "    .dataframe thead th {\n",
       "        text-align: right;\n",
       "    }\n",
       "</style>\n",
       "<table border=\"1\" class=\"dataframe\">\n",
       "  <thead>\n",
       "    <tr style=\"text-align: right;\">\n",
       "      <th></th>\n",
       "      <th>0</th>\n",
       "      <th>1</th>\n",
       "      <th>2</th>\n",
       "      <th>3</th>\n",
       "      <th>4</th>\n",
       "      <th>5</th>\n",
       "      <th>6</th>\n",
       "      <th>7</th>\n",
       "      <th>8</th>\n",
       "      <th>9</th>\n",
       "      <th>...</th>\n",
       "      <th>774</th>\n",
       "      <th>775</th>\n",
       "      <th>776</th>\n",
       "      <th>777</th>\n",
       "      <th>778</th>\n",
       "      <th>779</th>\n",
       "      <th>780</th>\n",
       "      <th>781</th>\n",
       "      <th>782</th>\n",
       "      <th>783</th>\n",
       "    </tr>\n",
       "  </thead>\n",
       "  <tbody>\n",
       "    <tr>\n",
       "      <th>0</th>\n",
       "      <td>255</td>\n",
       "      <td>255</td>\n",
       "      <td>255</td>\n",
       "      <td>255</td>\n",
       "      <td>255</td>\n",
       "      <td>255</td>\n",
       "      <td>255</td>\n",
       "      <td>255</td>\n",
       "      <td>255</td>\n",
       "      <td>255</td>\n",
       "      <td>...</td>\n",
       "      <td>255</td>\n",
       "      <td>255</td>\n",
       "      <td>255</td>\n",
       "      <td>255</td>\n",
       "      <td>255</td>\n",
       "      <td>255</td>\n",
       "      <td>255</td>\n",
       "      <td>255</td>\n",
       "      <td>255</td>\n",
       "      <td>255</td>\n",
       "    </tr>\n",
       "    <tr>\n",
       "      <th>1</th>\n",
       "      <td>255</td>\n",
       "      <td>255</td>\n",
       "      <td>255</td>\n",
       "      <td>255</td>\n",
       "      <td>255</td>\n",
       "      <td>255</td>\n",
       "      <td>255</td>\n",
       "      <td>255</td>\n",
       "      <td>255</td>\n",
       "      <td>255</td>\n",
       "      <td>...</td>\n",
       "      <td>255</td>\n",
       "      <td>255</td>\n",
       "      <td>255</td>\n",
       "      <td>255</td>\n",
       "      <td>255</td>\n",
       "      <td>255</td>\n",
       "      <td>255</td>\n",
       "      <td>255</td>\n",
       "      <td>255</td>\n",
       "      <td>255</td>\n",
       "    </tr>\n",
       "    <tr>\n",
       "      <th>2</th>\n",
       "      <td>255</td>\n",
       "      <td>255</td>\n",
       "      <td>255</td>\n",
       "      <td>255</td>\n",
       "      <td>255</td>\n",
       "      <td>255</td>\n",
       "      <td>255</td>\n",
       "      <td>255</td>\n",
       "      <td>255</td>\n",
       "      <td>255</td>\n",
       "      <td>...</td>\n",
       "      <td>255</td>\n",
       "      <td>255</td>\n",
       "      <td>255</td>\n",
       "      <td>255</td>\n",
       "      <td>255</td>\n",
       "      <td>255</td>\n",
       "      <td>255</td>\n",
       "      <td>255</td>\n",
       "      <td>255</td>\n",
       "      <td>255</td>\n",
       "    </tr>\n",
       "    <tr>\n",
       "      <th>3</th>\n",
       "      <td>255</td>\n",
       "      <td>255</td>\n",
       "      <td>255</td>\n",
       "      <td>255</td>\n",
       "      <td>255</td>\n",
       "      <td>255</td>\n",
       "      <td>255</td>\n",
       "      <td>255</td>\n",
       "      <td>255</td>\n",
       "      <td>255</td>\n",
       "      <td>...</td>\n",
       "      <td>255</td>\n",
       "      <td>255</td>\n",
       "      <td>255</td>\n",
       "      <td>255</td>\n",
       "      <td>255</td>\n",
       "      <td>255</td>\n",
       "      <td>255</td>\n",
       "      <td>255</td>\n",
       "      <td>255</td>\n",
       "      <td>255</td>\n",
       "    </tr>\n",
       "    <tr>\n",
       "      <th>4</th>\n",
       "      <td>255</td>\n",
       "      <td>255</td>\n",
       "      <td>255</td>\n",
       "      <td>255</td>\n",
       "      <td>255</td>\n",
       "      <td>255</td>\n",
       "      <td>255</td>\n",
       "      <td>255</td>\n",
       "      <td>255</td>\n",
       "      <td>255</td>\n",
       "      <td>...</td>\n",
       "      <td>255</td>\n",
       "      <td>255</td>\n",
       "      <td>255</td>\n",
       "      <td>255</td>\n",
       "      <td>255</td>\n",
       "      <td>255</td>\n",
       "      <td>255</td>\n",
       "      <td>255</td>\n",
       "      <td>255</td>\n",
       "      <td>255</td>\n",
       "    </tr>\n",
       "  </tbody>\n",
       "</table>\n",
       "<p>5 rows × 784 columns</p>\n",
       "</div>"
      ],
      "text/plain": [
       "     0    1    2    3    4    5    6    7    8    9  ...  774  775  776  777  \\\n",
       "0  255  255  255  255  255  255  255  255  255  255  ...  255  255  255  255   \n",
       "1  255  255  255  255  255  255  255  255  255  255  ...  255  255  255  255   \n",
       "2  255  255  255  255  255  255  255  255  255  255  ...  255  255  255  255   \n",
       "3  255  255  255  255  255  255  255  255  255  255  ...  255  255  255  255   \n",
       "4  255  255  255  255  255  255  255  255  255  255  ...  255  255  255  255   \n",
       "\n",
       "   778  779  780  781  782  783  \n",
       "0  255  255  255  255  255  255  \n",
       "1  255  255  255  255  255  255  \n",
       "2  255  255  255  255  255  255  \n",
       "3  255  255  255  255  255  255  \n",
       "4  255  255  255  255  255  255  \n",
       "\n",
       "[5 rows x 784 columns]"
      ]
     },
     "execution_count": 73,
     "metadata": {},
     "output_type": "execute_result"
    }
   ],
   "source": [
    "df_train.drop(df_train.columns[[784]],axis=1,inplace=True)\n",
    "df_train.head()"
   ]
  },
  {
   "cell_type": "code",
   "execution_count": 74,
   "id": "7e0f54fb",
   "metadata": {},
   "outputs": [
    {
     "data": {
      "text/plain": [
       "'channels_last'"
      ]
     },
     "execution_count": 74,
     "metadata": {},
     "output_type": "execute_result"
    }
   ],
   "source": [
    "np.random.seed(1212)\n",
    "import keras\n",
    "from keras.models import Model, Sequential\n",
    "from keras.layers import *\n",
    "from keras import optimizers\n",
    "from keras.layers import Input, Dense\n",
    "from keras.layers.convolutional import Conv2D, MaxPooling2D\n",
    "from keras.utils import np_utils\n",
    "from keras import backend as K\n",
    "K.image_data_format()"
   ]
  },
  {
   "cell_type": "code",
   "execution_count": 75,
   "id": "88955d64",
   "metadata": {},
   "outputs": [],
   "source": [
    "labels = np.array(labels)"
   ]
  },
  {
   "cell_type": "code",
   "execution_count": 76,
   "id": "eba175de",
   "metadata": {},
   "outputs": [],
   "source": [
    "from keras.utils.np_utils import to_categorical\n",
    "cat = to_categorical(labels,num_classes=13)"
   ]
  },
  {
   "cell_type": "code",
   "execution_count": 77,
   "id": "91e20cd1",
   "metadata": {},
   "outputs": [
    {
     "name": "stdout",
     "output_type": "stream",
     "text": [
      "[0. 0. 0. 0. 0. 0. 0. 0. 0. 0. 1. 0. 0.]\n"
     ]
    }
   ],
   "source": [
    "print(cat[0])"
   ]
  },
  {
   "cell_type": "code",
   "execution_count": 78,
   "id": "90f28c26",
   "metadata": {},
   "outputs": [
    {
     "data": {
      "text/html": [
       "<div>\n",
       "<style scoped>\n",
       "    .dataframe tbody tr th:only-of-type {\n",
       "        vertical-align: middle;\n",
       "    }\n",
       "\n",
       "    .dataframe tbody tr th {\n",
       "        vertical-align: top;\n",
       "    }\n",
       "\n",
       "    .dataframe thead th {\n",
       "        text-align: right;\n",
       "    }\n",
       "</style>\n",
       "<table border=\"1\" class=\"dataframe\">\n",
       "  <thead>\n",
       "    <tr style=\"text-align: right;\">\n",
       "      <th></th>\n",
       "      <th>0</th>\n",
       "      <th>1</th>\n",
       "      <th>2</th>\n",
       "      <th>3</th>\n",
       "      <th>4</th>\n",
       "      <th>5</th>\n",
       "      <th>6</th>\n",
       "      <th>7</th>\n",
       "      <th>8</th>\n",
       "      <th>9</th>\n",
       "      <th>...</th>\n",
       "      <th>774</th>\n",
       "      <th>775</th>\n",
       "      <th>776</th>\n",
       "      <th>777</th>\n",
       "      <th>778</th>\n",
       "      <th>779</th>\n",
       "      <th>780</th>\n",
       "      <th>781</th>\n",
       "      <th>782</th>\n",
       "      <th>783</th>\n",
       "    </tr>\n",
       "  </thead>\n",
       "  <tbody>\n",
       "    <tr>\n",
       "      <th>0</th>\n",
       "      <td>255</td>\n",
       "      <td>255</td>\n",
       "      <td>255</td>\n",
       "      <td>255</td>\n",
       "      <td>255</td>\n",
       "      <td>255</td>\n",
       "      <td>255</td>\n",
       "      <td>255</td>\n",
       "      <td>255</td>\n",
       "      <td>255</td>\n",
       "      <td>...</td>\n",
       "      <td>255</td>\n",
       "      <td>255</td>\n",
       "      <td>255</td>\n",
       "      <td>255</td>\n",
       "      <td>255</td>\n",
       "      <td>255</td>\n",
       "      <td>255</td>\n",
       "      <td>255</td>\n",
       "      <td>255</td>\n",
       "      <td>255</td>\n",
       "    </tr>\n",
       "    <tr>\n",
       "      <th>1</th>\n",
       "      <td>255</td>\n",
       "      <td>255</td>\n",
       "      <td>255</td>\n",
       "      <td>255</td>\n",
       "      <td>255</td>\n",
       "      <td>255</td>\n",
       "      <td>255</td>\n",
       "      <td>255</td>\n",
       "      <td>255</td>\n",
       "      <td>255</td>\n",
       "      <td>...</td>\n",
       "      <td>255</td>\n",
       "      <td>255</td>\n",
       "      <td>255</td>\n",
       "      <td>255</td>\n",
       "      <td>255</td>\n",
       "      <td>255</td>\n",
       "      <td>255</td>\n",
       "      <td>255</td>\n",
       "      <td>255</td>\n",
       "      <td>255</td>\n",
       "    </tr>\n",
       "    <tr>\n",
       "      <th>2</th>\n",
       "      <td>255</td>\n",
       "      <td>255</td>\n",
       "      <td>255</td>\n",
       "      <td>255</td>\n",
       "      <td>255</td>\n",
       "      <td>255</td>\n",
       "      <td>255</td>\n",
       "      <td>255</td>\n",
       "      <td>255</td>\n",
       "      <td>255</td>\n",
       "      <td>...</td>\n",
       "      <td>255</td>\n",
       "      <td>255</td>\n",
       "      <td>255</td>\n",
       "      <td>255</td>\n",
       "      <td>255</td>\n",
       "      <td>255</td>\n",
       "      <td>255</td>\n",
       "      <td>255</td>\n",
       "      <td>255</td>\n",
       "      <td>255</td>\n",
       "    </tr>\n",
       "    <tr>\n",
       "      <th>3</th>\n",
       "      <td>255</td>\n",
       "      <td>255</td>\n",
       "      <td>255</td>\n",
       "      <td>255</td>\n",
       "      <td>255</td>\n",
       "      <td>255</td>\n",
       "      <td>255</td>\n",
       "      <td>255</td>\n",
       "      <td>255</td>\n",
       "      <td>255</td>\n",
       "      <td>...</td>\n",
       "      <td>255</td>\n",
       "      <td>255</td>\n",
       "      <td>255</td>\n",
       "      <td>255</td>\n",
       "      <td>255</td>\n",
       "      <td>255</td>\n",
       "      <td>255</td>\n",
       "      <td>255</td>\n",
       "      <td>255</td>\n",
       "      <td>255</td>\n",
       "    </tr>\n",
       "    <tr>\n",
       "      <th>4</th>\n",
       "      <td>255</td>\n",
       "      <td>255</td>\n",
       "      <td>255</td>\n",
       "      <td>255</td>\n",
       "      <td>255</td>\n",
       "      <td>255</td>\n",
       "      <td>255</td>\n",
       "      <td>255</td>\n",
       "      <td>255</td>\n",
       "      <td>255</td>\n",
       "      <td>...</td>\n",
       "      <td>255</td>\n",
       "      <td>255</td>\n",
       "      <td>255</td>\n",
       "      <td>255</td>\n",
       "      <td>255</td>\n",
       "      <td>255</td>\n",
       "      <td>255</td>\n",
       "      <td>255</td>\n",
       "      <td>255</td>\n",
       "      <td>255</td>\n",
       "    </tr>\n",
       "  </tbody>\n",
       "</table>\n",
       "<p>5 rows × 784 columns</p>\n",
       "</div>"
      ],
      "text/plain": [
       "     0    1    2    3    4    5    6    7    8    9  ...  774  775  776  777  \\\n",
       "0  255  255  255  255  255  255  255  255  255  255  ...  255  255  255  255   \n",
       "1  255  255  255  255  255  255  255  255  255  255  ...  255  255  255  255   \n",
       "2  255  255  255  255  255  255  255  255  255  255  ...  255  255  255  255   \n",
       "3  255  255  255  255  255  255  255  255  255  255  ...  255  255  255  255   \n",
       "4  255  255  255  255  255  255  255  255  255  255  ...  255  255  255  255   \n",
       "\n",
       "   778  779  780  781  782  783  \n",
       "0  255  255  255  255  255  255  \n",
       "1  255  255  255  255  255  255  \n",
       "2  255  255  255  255  255  255  \n",
       "3  255  255  255  255  255  255  \n",
       "4  255  255  255  255  255  255  \n",
       "\n",
       "[5 rows x 784 columns]"
      ]
     },
     "execution_count": 78,
     "metadata": {},
     "output_type": "execute_result"
    }
   ],
   "source": [
    "df_train.head()"
   ]
  },
  {
   "cell_type": "code",
   "execution_count": 79,
   "id": "af8405c4",
   "metadata": {},
   "outputs": [
    {
     "data": {
      "text/plain": [
       "(156617, 784)"
      ]
     },
     "execution_count": 79,
     "metadata": {},
     "output_type": "execute_result"
    }
   ],
   "source": [
    "df_train.shape"
   ]
  },
  {
   "cell_type": "code",
   "execution_count": 80,
   "id": "7cc9f859",
   "metadata": {},
   "outputs": [],
   "source": [
    "temp = df_train.to_numpy()"
   ]
  },
  {
   "cell_type": "code",
   "execution_count": 81,
   "id": "edbc44dc",
   "metadata": {},
   "outputs": [],
   "source": [
    "x_train = temp.reshape(temp.shape[0],28,28,1)"
   ]
  },
  {
   "cell_type": "code",
   "execution_count": 82,
   "id": "32615cd4",
   "metadata": {},
   "outputs": [
    {
     "data": {
      "text/plain": [
       "156617"
      ]
     },
     "execution_count": 82,
     "metadata": {},
     "output_type": "execute_result"
    }
   ],
   "source": [
    "temp.shape[0]"
   ]
  },
  {
   "cell_type": "code",
   "execution_count": 83,
   "id": "3d437eae",
   "metadata": {},
   "outputs": [
    {
     "data": {
      "text/plain": [
       "(156617, 28, 28, 1)"
      ]
     },
     "execution_count": 83,
     "metadata": {},
     "output_type": "execute_result"
    }
   ],
   "source": [
    "x_train.shape"
   ]
  },
  {
   "cell_type": "code",
   "execution_count": 84,
   "id": "a11205c8",
   "metadata": {},
   "outputs": [],
   "source": [
    "l=[]\n",
    "for i in range(47504):\n",
    "    l.append(np.array(df_train[i:i+1]).reshape(1,28,28))"
   ]
  },
  {
   "cell_type": "code",
   "execution_count": 85,
   "id": "08f186ba",
   "metadata": {},
   "outputs": [],
   "source": [
    "np.random.seed(7)"
   ]
  },
  {
   "cell_type": "code",
   "execution_count": 86,
   "id": "0175ae58",
   "metadata": {},
   "outputs": [
    {
     "data": {
      "text/plain": [
       "1"
      ]
     },
     "execution_count": 86,
     "metadata": {},
     "output_type": "execute_result"
    }
   ],
   "source": [
    "len(l[0])"
   ]
  },
  {
   "cell_type": "code",
   "execution_count": 87,
   "id": "c30c6984",
   "metadata": {},
   "outputs": [
    {
     "data": {
      "text/plain": [
       "(156617, 28, 28, 1)"
      ]
     },
     "execution_count": 87,
     "metadata": {},
     "output_type": "execute_result"
    }
   ],
   "source": [
    "x_train.shape"
   ]
  },
  {
   "cell_type": "code",
   "execution_count": 88,
   "id": "41213a02",
   "metadata": {},
   "outputs": [],
   "source": [
    "#convolution netural network\n",
    "model = Sequential()\n",
    "model.add(Conv2D(32,(3,3), input_shape=(28,28,1), activation='relu',padding='same'))\n",
    "model.add(MaxPooling2D(pool_size=(2,2)))\n",
    "model.add(Conv2D(15,(3,3), activation='relu'))\n",
    "model.add(MaxPooling2D(pool_size=(2,2)))\n",
    "model.add(Dropout(0.2))\n",
    "model.add(Flatten())\n",
    "model.add(Dense(128, activation='relu'))\n",
    "model.add(Dense(50, activation='relu'))\n",
    "model.add(Dense(13, activation='softmax'))\n",
    "\n",
    "model.compile(loss='categorical_crossentropy',optimizer='adam',metrics=['accuracy'])\n"
   ]
  },
  {
   "cell_type": "code",
   "execution_count": 89,
   "id": "aff6c3cc",
   "metadata": {},
   "outputs": [],
   "source": [
    "from keras.models import model_from_json"
   ]
  },
  {
   "cell_type": "code",
   "execution_count": 90,
   "id": "0cc8ddda",
   "metadata": {},
   "outputs": [
    {
     "name": "stdout",
     "output_type": "stream",
     "text": [
      "Epoch 1/10\n",
      "784/784 [==============================] - 43s 54ms/step - loss: 0.6317 - accuracy: 0.8433\n",
      "Epoch 2/10\n",
      "784/784 [==============================] - 41s 53ms/step - loss: 0.1790 - accuracy: 0.9471\n",
      "Epoch 3/10\n",
      "784/784 [==============================] - 42s 54ms/step - loss: 0.1456 - accuracy: 0.9576\n",
      "Epoch 4/10\n",
      "784/784 [==============================] - 42s 54ms/step - loss: 0.1176 - accuracy: 0.9658\n",
      "Epoch 5/10\n",
      "784/784 [==============================] - 42s 54ms/step - loss: 0.1047 - accuracy: 0.9690\n",
      "Epoch 6/10\n",
      "784/784 [==============================] - 46s 58ms/step - loss: 0.0943 - accuracy: 0.9722\n",
      "Epoch 7/10\n",
      "784/784 [==============================] - 48s 61ms/step - loss: 0.0775 - accuracy: 0.9772\n",
      "Epoch 8/10\n",
      "784/784 [==============================] - 43s 55ms/step - loss: 0.0653 - accuracy: 0.9807\n",
      "Epoch 9/10\n",
      "784/784 [==============================] - 42s 54ms/step - loss: 0.0571 - accuracy: 0.9833\n",
      "Epoch 10/10\n",
      "784/784 [==============================] - 43s 55ms/step - loss: 0.0503 - accuracy: 0.9851\n"
     ]
    },
    {
     "data": {
      "text/plain": [
       "<keras.callbacks.History at 0x7fefe9883dc0>"
      ]
     },
     "execution_count": 90,
     "metadata": {},
     "output_type": "execute_result"
    }
   ],
   "source": [
    "model.fit(x_train, cat , epochs=10,batch_size=200,shuffle=True,verbose=1)\n"
   ]
  },
  {
   "cell_type": "code",
   "execution_count": 91,
   "id": "8b79566b",
   "metadata": {},
   "outputs": [],
   "source": [
    "model_json = model.to_json()\n",
    "with open(\"FINAL_MODEL.json\",\"w\") as json_file:\n",
    "    json_file.write(model_json)\n",
    "# serialize weights to HDF5\n",
    "model.save_weights(\"FINAL_MODEL.h5\")"
   ]
  },
  {
   "cell_type": "code",
   "execution_count": 92,
   "id": "f2683a49",
   "metadata": {},
   "outputs": [],
   "source": [
    "json_file = open('FINAL_MODEL.json','r')\n",
    "loaded_model_json = json_file.read()\n",
    "json_file.close()\n",
    "loaded_model = model_from_json(loaded_model_json)\n",
    "#load weights into new model\n",
    "#trained weight\n",
    "loaded_model.load_weights(\"FINAL_MODEL.h5\")"
   ]
  },
  {
   "cell_type": "markdown",
   "id": "4bcb2b8a",
   "metadata": {},
   "source": [
    "# Test Image"
   ]
  },
  {
   "cell_type": "code",
   "execution_count": 93,
   "id": "070938d1",
   "metadata": {},
   "outputs": [
    {
     "data": {
      "image/jpeg": "[encoded data removed]",
      "text/plain": [
       "<IPython.core.display.Image object>"
      ]
     },
     "execution_count": 93,
     "metadata": {
      "image/jpeg": {
       "height": 200,
       "width": 200
      }
     },
     "output_type": "execute_result"
    }
   ],
   "source": [
    "from IPython.display import Image\n",
    "Image(filename='/Users/kirtan/Downloads/archive (1)/extracted_images/9/9_50610.jpg',width=200,height=200)\n"
   ]
  },
  {
   "cell_type": "code",
   "execution_count": 94,
   "id": "5c8a7d43",
   "metadata": {},
   "outputs": [
    {
     "data": {
      "text/plain": [
       "array([[255, 255, 255, ..., 255, 255, 255],\n",
       "       [255, 255, 255, ..., 255, 255, 255],\n",
       "       [255, 255, 255, ..., 255, 255, 255],\n",
       "       ...,\n",
       "       [255, 255, 255, ..., 255, 255, 255],\n",
       "       [255, 255, 255, ..., 255, 255, 255],\n",
       "       [255, 255, 255, ..., 255, 255, 255]], dtype=uint8)"
      ]
     },
     "execution_count": 94,
     "metadata": {},
     "output_type": "execute_result"
    }
   ],
   "source": [
    "img = cv2.imread('/Users/kirtan/Downloads/archive (1)/extracted_images/9/9_50610.jpg',cv2.IMREAD_GRAYSCALE)\n",
    "img"
   ]
  },
  {
   "cell_type": "code",
   "execution_count": 95,
   "id": "e2de4b0c",
   "metadata": {},
   "outputs": [
    {
     "name": "stdout",
     "output_type": "stream",
     "text": [
      "4\n",
      "[[10, 0, 25, 45], [10, 0, 20, 22], [26, 5, 3, 3], [27, 7, 3, 3]]\n",
      "[[0, 1, 1, 1], [1, 0, 1, 1], [1, 1, 0, 1], [1, 1, 1, 0]]\n",
      "7\n",
      "[[10, 0, 25, 45]]\n"
     ]
    }
   ],
   "source": [
    "if img is not None:\n",
    "    #images.append(img)\n",
    "    img = ~img\n",
    "    ret, thresh = cv2.threshold(img, 127, 255, cv2.THRESH_BINARY)\n",
    "    ctrs, ret = cv2.findContours(thresh, cv2.RETR_TREE, cv2.CHAIN_APPROX_SIMPLE) \n",
    "    cnt = sorted(ctrs, key=lambda ctr: cv2.boundingRect(ctr)[0])\n",
    "    w = int(28) \n",
    "    h = int(28)\n",
    "    train_data = []\n",
    "    print(len(cnt))\n",
    "    rects = []\n",
    "    for c in cnt:\n",
    "        x, y, w, h = cv2.boundingRect(c) \n",
    "        rect = [x, y, w, h] \n",
    "        rects.append(rect)\n",
    "    print(rects)\n",
    "    bool_rect = []\n",
    "    for r in rects:\n",
    "        l = []\n",
    "        for rec in rects:\n",
    "            flag = 0 \n",
    "            if rec != r:\n",
    "                if r[0] < (rec[0] + rec[2] + 10) and rec[0] < (r[0] + r[2] + 10) and r[1] < (rec[1] + rec[3] + 10) and rec[1] < (r[1] + r[3] + 10):\n",
    "                    flag = 1\n",
    "                l.append(flag)\n",
    "            if rec == r:\n",
    "                l.append(0)\n",
    "        bool_rect.append(l)\n",
    "    print(bool_rect)\n",
    "    dump_rect = []\n",
    "    for i in range(0, len(cnt)):\n",
    "        for j in range(0, len(cnt)):\n",
    "            if bool_rect[i][j] == 1:\n",
    "                area1 = rects[i][2] * rects[i][3] \n",
    "                area2 = rects[j][2] * rects[j][3] \n",
    "                if area1 == min(area1, area2):\n",
    "                    dump_rect.append(rects[i])    \n",
    "                    \n",
    "    print(len(dump_rect))\n",
    "    final_rect = [i for i in rects if i not in dump_rect]\n",
    "    print(final_rect)\n",
    "    for r in final_rect:\n",
    "        x = r[0]\n",
    "        y = r[1]\n",
    "        w = r[2]\n",
    "        h = r[3]\n",
    "        im_crop = thresh[y:y+h+10, x:x+w+10]\n",
    "            \n",
    "        im_resize = cv2.resize(im_crop, (28, 28))\n",
    "            \n",
    "        im_resize = np.reshape(im_resize, (28, 28, 1))\n",
    "        train_data.append(im_resize)\n"
   ]
  },
  {
   "cell_type": "code",
   "execution_count": 97,
   "id": "38faaa3b",
   "metadata": {},
   "outputs": [
    {
     "name": "stdout",
     "output_type": "stream",
     "text": [
      "1/1 [==============================] - 0s 23ms/step\n",
      "9\n",
      "9\n"
     ]
    }
   ],
   "source": [
    "output = ''\n",
    "for i in range(len(train_data)):\n",
    "    train_data[i] = np.array(train_data[i])\n",
    "    train_data[i] = train_data[i].reshape(1,28,28,1)\n",
    "    result = np.argmax(loaded_model.predict(train_data[i]), axis=-1)\n",
    "    print(result[0])\n",
    "    if result[0] == 10:\n",
    "        output += '-'\n",
    "    elif result[0] == 11:\n",
    "        output += '+'\n",
    "    elif result[0] == 12:\n",
    "        output += '*'\n",
    "    elif result[0] == 0:\n",
    "        output += '0'    \n",
    "    elif result[0] == 1:\n",
    "        output += '1'   \n",
    "    elif result[0] == 2:\n",
    "        output += '2'    \n",
    "    elif result[0] == 3:\n",
    "        output += '3'    \n",
    "    elif result[0] == 4:\n",
    "        output += '4'\n",
    "    elif result[0] == 5:\n",
    "        output += '5'    \n",
    "    elif result[0] == 6:\n",
    "        output += '6'    \n",
    "    elif result[0] == 7:\n",
    "        output += '7'    \n",
    "    elif result[0] == 8:\n",
    "        output += '8'    \n",
    "    elif result[0] == 9:\n",
    "        output += '9'        \n",
    "        \n",
    "print(output)\n"
   ]
  },
  {
   "cell_type": "code",
   "execution_count": 98,
   "id": "a3331a12",
   "metadata": {},
   "outputs": [
    {
     "data": {
      "text/plain": [
       "9"
      ]
     },
     "execution_count": 98,
     "metadata": {},
     "output_type": "execute_result"
    }
   ],
   "source": [
    "eval(output)"
   ]
  },
  {
   "cell_type": "code",
   "execution_count": null,
   "id": "0d2254ac",
   "metadata": {},
   "outputs": [],
   "source": []
  }
 ],
 "metadata": {
  "kernelspec": {
   "display_name": "Python 3 (ipykernel)",
   "language": "python",
   "name": "python3"
  },
  "language_info": {
   "codemirror_mode": {
    "name": "ipython",
    "version": 3
   },
   "file_extension": ".py",
   "mimetype": "text/x-python",
   "name": "python",
   "nbconvert_exporter": "python",
   "pygments_lexer": "ipython3",
   "version": "3.10.9"
  }
 },
 "nbformat": 4,
 "nbformat_minor": 5
}
