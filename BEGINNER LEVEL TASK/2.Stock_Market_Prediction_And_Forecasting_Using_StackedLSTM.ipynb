{
 "cells": [
  {
   "cell_type": "markdown",
   "id": "272de20f",
   "metadata": {},
   "source": [
    "# Stock Market Prediction And Forecasting Using Stacked LSTM"
   ]
  },
  {
   "cell_type": "code",
   "execution_count": 6,
   "id": "a47d66b4",
   "metadata": {},
   "outputs": [],
   "source": [
    "#Data collection\n",
    "import pandas_datareader as pdr"
   ]
  },
  {
   "cell_type": "code",
   "execution_count": 8,
   "id": "f5d0ffc2",
   "metadata": {},
   "outputs": [],
   "source": [
    "#imports\n",
    "import pandas as pd\n",
    "import matplotlib.pyplot as plt\n",
    "import numpy as np\n",
    "import os"
   ]
  },
  {
   "cell_type": "code",
   "execution_count": 9,
   "id": "dca8baec",
   "metadata": {},
   "outputs": [],
   "source": [
    "df = pd.read_csv('/Users/kirtan/Downloads/NSE-TATAGLOBAL.csv')"
   ]
  },
  {
   "cell_type": "code",
   "execution_count": 10,
   "id": "9a1c2481",
   "metadata": {},
   "outputs": [
    {
     "data": {
      "text/html": [
       "<div>\n",
       "<style scoped>\n",
       "    .dataframe tbody tr th:only-of-type {\n",
       "        vertical-align: middle;\n",
       "    }\n",
       "\n",
       "    .dataframe tbody tr th {\n",
       "        vertical-align: top;\n",
       "    }\n",
       "\n",
       "    .dataframe thead th {\n",
       "        text-align: right;\n",
       "    }\n",
       "</style>\n",
       "<table border=\"1\" class=\"dataframe\">\n",
       "  <thead>\n",
       "    <tr style=\"text-align: right;\">\n",
       "      <th></th>\n",
       "      <th>Date</th>\n",
       "      <th>Open</th>\n",
       "      <th>High</th>\n",
       "      <th>Low</th>\n",
       "      <th>Last</th>\n",
       "      <th>Close</th>\n",
       "      <th>Total Trade Quantity</th>\n",
       "      <th>Turnover (Lacs)</th>\n",
       "    </tr>\n",
       "  </thead>\n",
       "  <tbody>\n",
       "    <tr>\n",
       "      <th>0</th>\n",
       "      <td>2018-09-28</td>\n",
       "      <td>234.05</td>\n",
       "      <td>235.95</td>\n",
       "      <td>230.20</td>\n",
       "      <td>233.50</td>\n",
       "      <td>233.75</td>\n",
       "      <td>3069914</td>\n",
       "      <td>7162.35</td>\n",
       "    </tr>\n",
       "    <tr>\n",
       "      <th>1</th>\n",
       "      <td>2018-09-27</td>\n",
       "      <td>234.55</td>\n",
       "      <td>236.80</td>\n",
       "      <td>231.10</td>\n",
       "      <td>233.80</td>\n",
       "      <td>233.25</td>\n",
       "      <td>5082859</td>\n",
       "      <td>11859.95</td>\n",
       "    </tr>\n",
       "    <tr>\n",
       "      <th>2</th>\n",
       "      <td>2018-09-26</td>\n",
       "      <td>240.00</td>\n",
       "      <td>240.00</td>\n",
       "      <td>232.50</td>\n",
       "      <td>235.00</td>\n",
       "      <td>234.25</td>\n",
       "      <td>2240909</td>\n",
       "      <td>5248.60</td>\n",
       "    </tr>\n",
       "    <tr>\n",
       "      <th>3</th>\n",
       "      <td>2018-09-25</td>\n",
       "      <td>233.30</td>\n",
       "      <td>236.75</td>\n",
       "      <td>232.00</td>\n",
       "      <td>236.25</td>\n",
       "      <td>236.10</td>\n",
       "      <td>2349368</td>\n",
       "      <td>5503.90</td>\n",
       "    </tr>\n",
       "    <tr>\n",
       "      <th>4</th>\n",
       "      <td>2018-09-24</td>\n",
       "      <td>233.55</td>\n",
       "      <td>239.20</td>\n",
       "      <td>230.75</td>\n",
       "      <td>234.00</td>\n",
       "      <td>233.30</td>\n",
       "      <td>3423509</td>\n",
       "      <td>7999.55</td>\n",
       "    </tr>\n",
       "  </tbody>\n",
       "</table>\n",
       "</div>"
      ],
      "text/plain": [
       "         Date    Open    High     Low    Last   Close  Total Trade Quantity  \\\n",
       "0  2018-09-28  234.05  235.95  230.20  233.50  233.75               3069914   \n",
       "1  2018-09-27  234.55  236.80  231.10  233.80  233.25               5082859   \n",
       "2  2018-09-26  240.00  240.00  232.50  235.00  234.25               2240909   \n",
       "3  2018-09-25  233.30  236.75  232.00  236.25  236.10               2349368   \n",
       "4  2018-09-24  233.55  239.20  230.75  234.00  233.30               3423509   \n",
       "\n",
       "   Turnover (Lacs)  \n",
       "0          7162.35  \n",
       "1         11859.95  \n",
       "2          5248.60  \n",
       "3          5503.90  \n",
       "4          7999.55  "
      ]
     },
     "execution_count": 10,
     "metadata": {},
     "output_type": "execute_result"
    }
   ],
   "source": [
    "df.head()"
   ]
  },
  {
   "cell_type": "code",
   "execution_count": 11,
   "id": "2d6b0ed3",
   "metadata": {},
   "outputs": [
    {
     "data": {
      "text/html": [
       "<div>\n",
       "<style scoped>\n",
       "    .dataframe tbody tr th:only-of-type {\n",
       "        vertical-align: middle;\n",
       "    }\n",
       "\n",
       "    .dataframe tbody tr th {\n",
       "        vertical-align: top;\n",
       "    }\n",
       "\n",
       "    .dataframe thead th {\n",
       "        text-align: right;\n",
       "    }\n",
       "</style>\n",
       "<table border=\"1\" class=\"dataframe\">\n",
       "  <thead>\n",
       "    <tr style=\"text-align: right;\">\n",
       "      <th></th>\n",
       "      <th>Date</th>\n",
       "      <th>Open</th>\n",
       "      <th>High</th>\n",
       "      <th>Low</th>\n",
       "      <th>Last</th>\n",
       "      <th>Close</th>\n",
       "      <th>Total Trade Quantity</th>\n",
       "      <th>Turnover (Lacs)</th>\n",
       "    </tr>\n",
       "  </thead>\n",
       "  <tbody>\n",
       "    <tr>\n",
       "      <th>2030</th>\n",
       "      <td>2010-07-27</td>\n",
       "      <td>117.6</td>\n",
       "      <td>119.50</td>\n",
       "      <td>112.00</td>\n",
       "      <td>118.80</td>\n",
       "      <td>118.65</td>\n",
       "      <td>586100</td>\n",
       "      <td>694.98</td>\n",
       "    </tr>\n",
       "    <tr>\n",
       "      <th>2031</th>\n",
       "      <td>2010-07-26</td>\n",
       "      <td>120.1</td>\n",
       "      <td>121.00</td>\n",
       "      <td>117.10</td>\n",
       "      <td>117.10</td>\n",
       "      <td>117.60</td>\n",
       "      <td>658440</td>\n",
       "      <td>780.01</td>\n",
       "    </tr>\n",
       "    <tr>\n",
       "      <th>2032</th>\n",
       "      <td>2010-07-23</td>\n",
       "      <td>121.8</td>\n",
       "      <td>121.95</td>\n",
       "      <td>120.25</td>\n",
       "      <td>120.35</td>\n",
       "      <td>120.65</td>\n",
       "      <td>281312</td>\n",
       "      <td>340.31</td>\n",
       "    </tr>\n",
       "    <tr>\n",
       "      <th>2033</th>\n",
       "      <td>2010-07-22</td>\n",
       "      <td>120.3</td>\n",
       "      <td>122.00</td>\n",
       "      <td>120.25</td>\n",
       "      <td>120.75</td>\n",
       "      <td>120.90</td>\n",
       "      <td>293312</td>\n",
       "      <td>355.17</td>\n",
       "    </tr>\n",
       "    <tr>\n",
       "      <th>2034</th>\n",
       "      <td>2010-07-21</td>\n",
       "      <td>122.1</td>\n",
       "      <td>123.00</td>\n",
       "      <td>121.05</td>\n",
       "      <td>121.10</td>\n",
       "      <td>121.55</td>\n",
       "      <td>658666</td>\n",
       "      <td>803.56</td>\n",
       "    </tr>\n",
       "  </tbody>\n",
       "</table>\n",
       "</div>"
      ],
      "text/plain": [
       "            Date   Open    High     Low    Last   Close  Total Trade Quantity  \\\n",
       "2030  2010-07-27  117.6  119.50  112.00  118.80  118.65                586100   \n",
       "2031  2010-07-26  120.1  121.00  117.10  117.10  117.60                658440   \n",
       "2032  2010-07-23  121.8  121.95  120.25  120.35  120.65                281312   \n",
       "2033  2010-07-22  120.3  122.00  120.25  120.75  120.90                293312   \n",
       "2034  2010-07-21  122.1  123.00  121.05  121.10  121.55                658666   \n",
       "\n",
       "      Turnover (Lacs)  \n",
       "2030           694.98  \n",
       "2031           780.01  \n",
       "2032           340.31  \n",
       "2033           355.17  \n",
       "2034           803.56  "
      ]
     },
     "execution_count": 11,
     "metadata": {},
     "output_type": "execute_result"
    }
   ],
   "source": [
    "df.tail()"
   ]
  },
  {
   "cell_type": "code",
   "execution_count": 97,
   "id": "e6b02804",
   "metadata": {},
   "outputs": [],
   "source": [
    "df1 = df.reset_index()['Close']"
   ]
  },
  {
   "cell_type": "code",
   "execution_count": 98,
   "id": "43b4d89a",
   "metadata": {},
   "outputs": [
    {
     "data": {
      "text/plain": [
       "0       233.75\n",
       "1       233.25\n",
       "2       234.25\n",
       "3       236.10\n",
       "4       233.30\n",
       "         ...  \n",
       "2030    118.65\n",
       "2031    117.60\n",
       "2032    120.65\n",
       "2033    120.90\n",
       "2034    121.55\n",
       "Name: Close, Length: 2035, dtype: float64"
      ]
     },
     "execution_count": 98,
     "metadata": {},
     "output_type": "execute_result"
    }
   ],
   "source": [
    "df1"
   ]
  },
  {
   "cell_type": "code",
   "execution_count": 99,
   "id": "a74c0975",
   "metadata": {},
   "outputs": [
    {
     "data": {
      "text/plain": [
       "[<matplotlib.lines.Line2D at 0x7fa6b3f76110>]"
      ]
     },
     "execution_count": 99,
     "metadata": {},
     "output_type": "execute_result"
    },
    {
     "data": {
      "image/png": "[encoded data removed]",
      "text/plain": [
       "<Figure size 640x480 with 1 Axes>"
      ]
     },
     "metadata": {},
     "output_type": "display_data"
    }
   ],
   "source": [
    "plt.plot(df1)"
   ]
  },
  {
   "cell_type": "code",
   "execution_count": 100,
   "id": "0fc3d84d",
   "metadata": {},
   "outputs": [],
   "source": [
    "from sklearn.preprocessing import MinMaxScaler\n",
    "scaler = MinMaxScaler(feature_range=(0,1))\n",
    "df1=scaler.fit_transform(np.array(df1).reshape(-1,1))"
   ]
  },
  {
   "cell_type": "code",
   "execution_count": 101,
   "id": "a1c3595f",
   "metadata": {},
   "outputs": [
    {
     "data": {
      "text/plain": [
       "(2035, 1)"
      ]
     },
     "execution_count": 101,
     "metadata": {},
     "output_type": "execute_result"
    }
   ],
   "source": [
    "df1.shape"
   ]
  },
  {
   "cell_type": "code",
   "execution_count": 102,
   "id": "1638c88e",
   "metadata": {},
   "outputs": [
    {
     "data": {
      "text/plain": [
       "array([[0.62418301],\n",
       "       [0.62214052],\n",
       "       [0.62622549],\n",
       "       ...,\n",
       "       [0.1621732 ],\n",
       "       [0.16319444],\n",
       "       [0.16584967]])"
      ]
     },
     "execution_count": 102,
     "metadata": {},
     "output_type": "execute_result"
    }
   ],
   "source": [
    "df1"
   ]
  },
  {
   "cell_type": "code",
   "execution_count": 103,
   "id": "7df258a0",
   "metadata": {},
   "outputs": [],
   "source": [
    "#splitting dataset into train and test split\n",
    "training_size = int(len(df1)*0.65)\n",
    "test_size = len(df1)-training_size\n",
    "train_data,test_data=df1[0:training_size,:],df1[training_size:len(df1),:1]"
   ]
  },
  {
   "cell_type": "code",
   "execution_count": 104,
   "id": "d2baaef7",
   "metadata": {},
   "outputs": [
    {
     "data": {
      "text/plain": [
       "(1322, 713)"
      ]
     },
     "execution_count": 104,
     "metadata": {},
     "output_type": "execute_result"
    }
   ],
   "source": [
    "training_size,test_size"
   ]
  },
  {
   "cell_type": "code",
   "execution_count": 105,
   "id": "14bb63b1",
   "metadata": {},
   "outputs": [
    {
     "data": {
      "text/plain": [
       "(1322, 713)"
      ]
     },
     "execution_count": 105,
     "metadata": {},
     "output_type": "execute_result"
    }
   ],
   "source": [
    "len(train_data),len(test_data)"
   ]
  },
  {
   "cell_type": "code",
   "execution_count": 106,
   "id": "eb35aada",
   "metadata": {},
   "outputs": [],
   "source": [
    "import numpy\n",
    "#convert an array of values into a dataset matrix\n",
    "def create_dataset(dataset, time_step=1):\n",
    "    dataX, dataY = [], []\n",
    "    for i in range(len(dataset)-time_step-1):\n",
    "        a = dataset[i:(i+time_step),0]\n",
    "        dataX.append(a)\n",
    "        dataY.append(dataset[i+time_step,0])\n",
    "    return numpy.array(dataX), numpy.array(dataY)"
   ]
  },
  {
   "cell_type": "code",
   "execution_count": 107,
   "id": "45d57bb5",
   "metadata": {},
   "outputs": [],
   "source": [
    "#reshape into X=t,t+1,t+2,t+3 and Y=t+4\n",
    "time_step = 100\n",
    "x_train, y_train = create_dataset(train_data,time_step)\n",
    "x_test,y_test = create_dataset(test_data,time_step)"
   ]
  },
  {
   "cell_type": "code",
   "execution_count": 108,
   "id": "abd32171",
   "metadata": {},
   "outputs": [
    {
     "name": "stdout",
     "output_type": "stream",
     "text": [
      "[[0.62418301 0.62214052 0.62622549 ... 0.83455882 0.86213235 0.85273693]\n",
      " [0.62214052 0.62622549 0.63378268 ... 0.86213235 0.85273693 0.87111928]\n",
      " [0.62622549 0.63378268 0.62234477 ... 0.85273693 0.87111928 0.84497549]\n",
      " ...\n",
      " [0.34517974 0.31781046 0.33047386 ... 0.2816585  0.27001634 0.26531863]\n",
      " [0.31781046 0.33047386 0.32128268 ... 0.27001634 0.26531863 0.27389706]\n",
      " [0.33047386 0.32128268 0.34007353 ... 0.26531863 0.27389706 0.25347222]]\n"
     ]
    }
   ],
   "source": [
    "print(x_train)"
   ]
  },
  {
   "cell_type": "code",
   "execution_count": 109,
   "id": "758a1ffe",
   "metadata": {},
   "outputs": [
    {
     "name": "stdout",
     "output_type": "stream",
     "text": [
      "(1221, 100)\n",
      "(1221,)\n"
     ]
    },
    {
     "data": {
      "text/plain": [
       "(None, None)"
      ]
     },
     "execution_count": 109,
     "metadata": {},
     "output_type": "execute_result"
    }
   ],
   "source": [
    "print(x_train.shape),print(y_train.shape)"
   ]
  },
  {
   "cell_type": "code",
   "execution_count": 110,
   "id": "96a41d9c",
   "metadata": {},
   "outputs": [
    {
     "name": "stdout",
     "output_type": "stream",
     "text": [
      "(612, 100)\n",
      "(612,)\n"
     ]
    },
    {
     "data": {
      "text/plain": [
       "(None, None)"
      ]
     },
     "execution_count": 110,
     "metadata": {},
     "output_type": "execute_result"
    }
   ],
   "source": [
    "print(x_test.shape),print(y_test.shape)"
   ]
  },
  {
   "cell_type": "code",
   "execution_count": 111,
   "id": "23fb9a2f",
   "metadata": {},
   "outputs": [],
   "source": [
    "#reshape input to be [samples,time steps, features] which is required for LSTM\n",
    "x_train = x_train.reshape(x_train.shape[0],x_train.shape[1],1)\n",
    "x_test = x_test.reshape(x_test.shape[0],x_test.shape[1],1)"
   ]
  },
  {
   "cell_type": "code",
   "execution_count": 112,
   "id": "b9bad2ad",
   "metadata": {},
   "outputs": [],
   "source": [
    "#Create the Stacked LSTM model\n",
    "from tensorflow.keras.models import Sequential\n",
    "from tensorflow.keras.layers import Dense\n",
    "from tensorflow.keras.layers import LSTM"
   ]
  },
  {
   "cell_type": "code",
   "execution_count": 113,
   "id": "8e1fa681",
   "metadata": {},
   "outputs": [],
   "source": [
    "model = Sequential()\n",
    "model.add(LSTM(50,return_sequences=True,input_shape=(100,1)))\n",
    "model.add(LSTM(50,return_sequences=True))\n",
    "model.add(LSTM(50))\n",
    "model.add(Dense(1))\n",
    "model.compile(loss='mean_squared_error',optimizer='adam')"
   ]
  },
  {
   "cell_type": "code",
   "execution_count": 114,
   "id": "56ffff06",
   "metadata": {},
   "outputs": [
    {
     "name": "stdout",
     "output_type": "stream",
     "text": [
      "Model: \"sequential_3\"\n",
      "_________________________________________________________________\n",
      " Layer (type)                Output Shape              Param #   \n",
      "=================================================================\n",
      " lstm_9 (LSTM)               (None, 100, 50)           10400     \n",
      "                                                                 \n",
      " lstm_10 (LSTM)              (None, 100, 50)           20200     \n",
      "                                                                 \n",
      " lstm_11 (LSTM)              (None, 50)                20200     \n",
      "                                                                 \n",
      " dense_3 (Dense)             (None, 1)                 51        \n",
      "                                                                 \n",
      "=================================================================\n",
      "Total params: 50,851\n",
      "Trainable params: 50,851\n",
      "Non-trainable params: 0\n",
      "_________________________________________________________________\n"
     ]
    }
   ],
   "source": [
    "model.summary()"
   ]
  },
  {
   "cell_type": "code",
   "execution_count": 115,
   "id": "46ed6cad",
   "metadata": {},
   "outputs": [
    {
     "name": "stdout",
     "output_type": "stream",
     "text": [
      "Epoch 1/100\n",
      "20/20 [==============================] - 9s 266ms/step - loss: 0.0334 - val_loss: 0.0049\n",
      "Epoch 2/100\n",
      "20/20 [==============================] - 5s 227ms/step - loss: 0.0036 - val_loss: 0.0012\n",
      "Epoch 3/100\n",
      "20/20 [==============================] - 5s 247ms/step - loss: 0.0017 - val_loss: 0.0011\n",
      "Epoch 4/100\n",
      "20/20 [==============================] - 4s 224ms/step - loss: 0.0016 - val_loss: 0.0014\n",
      "Epoch 5/100\n",
      "20/20 [==============================] - 4s 214ms/step - loss: 0.0015 - val_loss: 0.0014\n",
      "Epoch 6/100\n",
      "20/20 [==============================] - 5s 236ms/step - loss: 0.0014 - val_loss: 9.2701e-04\n",
      "Epoch 7/100\n",
      "20/20 [==============================] - 4s 214ms/step - loss: 0.0019 - val_loss: 0.0012\n",
      "Epoch 8/100\n",
      "20/20 [==============================] - 4s 217ms/step - loss: 0.0015 - val_loss: 0.0011\n",
      "Epoch 9/100\n",
      "20/20 [==============================] - 4s 210ms/step - loss: 0.0014 - val_loss: 0.0014\n",
      "Epoch 10/100\n",
      "20/20 [==============================] - 5s 238ms/step - loss: 0.0014 - val_loss: 0.0012\n",
      "Epoch 11/100\n",
      "20/20 [==============================] - 4s 215ms/step - loss: 0.0012 - val_loss: 9.5181e-04\n",
      "Epoch 12/100\n",
      "20/20 [==============================] - 4s 214ms/step - loss: 0.0012 - val_loss: 9.2237e-04\n",
      "Epoch 13/100\n",
      "20/20 [==============================] - 4s 220ms/step - loss: 0.0012 - val_loss: 7.7357e-04\n",
      "Epoch 14/100\n",
      "20/20 [==============================] - 5s 233ms/step - loss: 0.0011 - val_loss: 8.4876e-04\n",
      "Epoch 15/100\n",
      "20/20 [==============================] - 4s 216ms/step - loss: 9.9528e-04 - val_loss: 0.0013\n",
      "Epoch 16/100\n",
      "20/20 [==============================] - 4s 216ms/step - loss: 0.0016 - val_loss: 0.0010\n",
      "Epoch 17/100\n",
      "20/20 [==============================] - 5s 244ms/step - loss: 9.3462e-04 - val_loss: 7.4559e-04\n",
      "Epoch 18/100\n",
      "20/20 [==============================] - 4s 212ms/step - loss: 8.6987e-04 - val_loss: 9.0132e-04\n",
      "Epoch 19/100\n",
      "20/20 [==============================] - 4s 215ms/step - loss: 8.4903e-04 - val_loss: 7.3513e-04\n",
      "Epoch 20/100\n",
      "20/20 [==============================] - 4s 214ms/step - loss: 8.1765e-04 - val_loss: 7.9771e-04\n",
      "Epoch 21/100\n",
      "20/20 [==============================] - 5s 244ms/step - loss: 7.8726e-04 - val_loss: 7.6090e-04\n",
      "Epoch 22/100\n",
      "20/20 [==============================] - 4s 219ms/step - loss: 7.4638e-04 - val_loss: 9.9642e-04\n",
      "Epoch 23/100\n",
      "20/20 [==============================] - 4s 214ms/step - loss: 7.7477e-04 - val_loss: 8.9038e-04\n",
      "Epoch 24/100\n",
      "20/20 [==============================] - 5s 230ms/step - loss: 7.9686e-04 - val_loss: 7.7220e-04\n",
      "Epoch 25/100\n",
      "20/20 [==============================] - 4s 222ms/step - loss: 6.9721e-04 - val_loss: 7.1794e-04\n",
      "Epoch 26/100\n",
      "20/20 [==============================] - 4s 216ms/step - loss: 8.0438e-04 - val_loss: 8.4790e-04\n",
      "Epoch 27/100\n",
      "20/20 [==============================] - 4s 209ms/step - loss: 8.2272e-04 - val_loss: 0.0010\n",
      "Epoch 28/100\n",
      "20/20 [==============================] - 5s 242ms/step - loss: 6.9174e-04 - val_loss: 6.6577e-04\n",
      "Epoch 29/100\n",
      "20/20 [==============================] - 4s 216ms/step - loss: 7.3274e-04 - val_loss: 6.9838e-04\n",
      "Epoch 30/100\n",
      "20/20 [==============================] - 4s 217ms/step - loss: 6.4241e-04 - val_loss: 8.2257e-04\n",
      "Epoch 31/100\n",
      "20/20 [==============================] - 4s 216ms/step - loss: 5.8518e-04 - val_loss: 6.8736e-04\n",
      "Epoch 32/100\n",
      "20/20 [==============================] - 5s 239ms/step - loss: 5.6999e-04 - val_loss: 9.1668e-04\n",
      "Epoch 33/100\n",
      "20/20 [==============================] - 4s 212ms/step - loss: 6.8603e-04 - val_loss: 7.2659e-04\n",
      "Epoch 34/100\n",
      "20/20 [==============================] - 4s 210ms/step - loss: 5.5985e-04 - val_loss: 7.8550e-04\n",
      "Epoch 35/100\n",
      "20/20 [==============================] - 5s 239ms/step - loss: 7.1372e-04 - val_loss: 7.8647e-04\n",
      "Epoch 36/100\n",
      "20/20 [==============================] - 4s 216ms/step - loss: 5.2349e-04 - val_loss: 6.4443e-04\n",
      "Epoch 37/100\n",
      "20/20 [==============================] - 4s 222ms/step - loss: 5.2689e-04 - val_loss: 7.4195e-04\n",
      "Epoch 38/100\n",
      "20/20 [==============================] - 4s 221ms/step - loss: 6.9668e-04 - val_loss: 7.2656e-04\n",
      "Epoch 39/100\n",
      "20/20 [==============================] - 5s 241ms/step - loss: 4.9511e-04 - val_loss: 6.0611e-04\n",
      "Epoch 40/100\n",
      "20/20 [==============================] - 4s 217ms/step - loss: 4.7502e-04 - val_loss: 5.2326e-04\n",
      "Epoch 41/100\n",
      "20/20 [==============================] - 4s 212ms/step - loss: 5.5275e-04 - val_loss: 5.7023e-04\n",
      "Epoch 42/100\n",
      "20/20 [==============================] - 5s 230ms/step - loss: 5.0921e-04 - val_loss: 5.9112e-04\n",
      "Epoch 43/100\n",
      "20/20 [==============================] - 5s 231ms/step - loss: 4.6925e-04 - val_loss: 5.6155e-04\n",
      "Epoch 44/100\n",
      "20/20 [==============================] - 4s 215ms/step - loss: 4.2921e-04 - val_loss: 4.9428e-04\n",
      "Epoch 45/100\n",
      "20/20 [==============================] - 4s 214ms/step - loss: 4.2254e-04 - val_loss: 3.8563e-04\n",
      "Epoch 46/100\n",
      "20/20 [==============================] - 5s 243ms/step - loss: 4.4707e-04 - val_loss: 4.8045e-04\n",
      "Epoch 47/100\n",
      "20/20 [==============================] - 4s 217ms/step - loss: 4.5479e-04 - val_loss: 5.2569e-04\n",
      "Epoch 48/100\n",
      "20/20 [==============================] - 4s 215ms/step - loss: 4.5441e-04 - val_loss: 4.0987e-04\n",
      "Epoch 49/100\n",
      "20/20 [==============================] - 4s 216ms/step - loss: 4.0181e-04 - val_loss: 4.4602e-04\n",
      "Epoch 50/100\n",
      "20/20 [==============================] - 5s 257ms/step - loss: 4.0263e-04 - val_loss: 3.3245e-04\n",
      "Epoch 51/100\n",
      "20/20 [==============================] - 4s 213ms/step - loss: 4.0020e-04 - val_loss: 3.3984e-04\n",
      "Epoch 52/100\n",
      "20/20 [==============================] - 4s 216ms/step - loss: 4.2479e-04 - val_loss: 5.5419e-04\n",
      "Epoch 53/100\n",
      "20/20 [==============================] - 5s 252ms/step - loss: 4.1568e-04 - val_loss: 3.9530e-04\n",
      "Epoch 54/100\n",
      "20/20 [==============================] - 4s 214ms/step - loss: 3.7576e-04 - val_loss: 4.9032e-04\n",
      "Epoch 55/100\n",
      "20/20 [==============================] - 4s 217ms/step - loss: 3.8688e-04 - val_loss: 3.5181e-04\n",
      "Epoch 56/100\n",
      "20/20 [==============================] - 4s 214ms/step - loss: 3.8968e-04 - val_loss: 3.0237e-04\n",
      "Epoch 57/100\n",
      "20/20 [==============================] - 5s 246ms/step - loss: 3.7706e-04 - val_loss: 3.5006e-04\n",
      "Epoch 58/100\n",
      "20/20 [==============================] - 4s 214ms/step - loss: 3.5937e-04 - val_loss: 3.7500e-04\n",
      "Epoch 59/100\n",
      "20/20 [==============================] - 4s 214ms/step - loss: 3.9352e-04 - val_loss: 5.2308e-04\n",
      "Epoch 60/100\n",
      "20/20 [==============================] - 5s 236ms/step - loss: 4.6416e-04 - val_loss: 4.5246e-04\n",
      "Epoch 61/100\n",
      "20/20 [==============================] - 5s 227ms/step - loss: 4.0767e-04 - val_loss: 3.8738e-04\n",
      "Epoch 62/100\n",
      "20/20 [==============================] - 4s 213ms/step - loss: 3.3884e-04 - val_loss: 4.4844e-04\n",
      "Epoch 63/100\n",
      "20/20 [==============================] - 4s 214ms/step - loss: 3.2842e-04 - val_loss: 4.0112e-04\n",
      "Epoch 64/100\n",
      "20/20 [==============================] - 5s 244ms/step - loss: 2.9814e-04 - val_loss: 2.9471e-04\n",
      "Epoch 65/100\n",
      "20/20 [==============================] - 4s 214ms/step - loss: 3.6451e-04 - val_loss: 4.6861e-04\n",
      "Epoch 66/100\n",
      "20/20 [==============================] - 4s 214ms/step - loss: 3.9076e-04 - val_loss: 3.0674e-04\n",
      "Epoch 67/100\n",
      "20/20 [==============================] - 5s 227ms/step - loss: 3.3843e-04 - val_loss: 3.7384e-04\n",
      "Epoch 68/100\n",
      "20/20 [==============================] - 5s 234ms/step - loss: 3.0334e-04 - val_loss: 3.0396e-04\n",
      "Epoch 69/100\n",
      "20/20 [==============================] - 4s 216ms/step - loss: 2.8913e-04 - val_loss: 2.6398e-04\n",
      "Epoch 70/100\n",
      "20/20 [==============================] - 4s 216ms/step - loss: 2.9704e-04 - val_loss: 2.5437e-04\n",
      "Epoch 71/100\n",
      "20/20 [==============================] - 5s 244ms/step - loss: 3.6956e-04 - val_loss: 2.8911e-04\n",
      "Epoch 72/100\n",
      "20/20 [==============================] - 4s 221ms/step - loss: 2.8115e-04 - val_loss: 2.7796e-04\n",
      "Epoch 73/100\n",
      "20/20 [==============================] - 5s 230ms/step - loss: 2.6354e-04 - val_loss: 2.8637e-04\n",
      "Epoch 74/100\n",
      "20/20 [==============================] - 5s 228ms/step - loss: 2.7498e-04 - val_loss: 4.0728e-04\n",
      "Epoch 75/100\n",
      "20/20 [==============================] - 5s 236ms/step - loss: 2.6132e-04 - val_loss: 2.7040e-04\n",
      "Epoch 76/100\n",
      "20/20 [==============================] - 4s 213ms/step - loss: 2.5264e-04 - val_loss: 2.7350e-04\n",
      "Epoch 77/100\n",
      "20/20 [==============================] - 4s 211ms/step - loss: 2.6540e-04 - val_loss: 3.0728e-04\n",
      "Epoch 78/100\n",
      "20/20 [==============================] - 5s 236ms/step - loss: 2.5363e-04 - val_loss: 3.1058e-04\n",
      "Epoch 79/100\n",
      "20/20 [==============================] - 4s 211ms/step - loss: 3.2856e-04 - val_loss: 2.2807e-04\n",
      "Epoch 80/100\n",
      "20/20 [==============================] - 4s 217ms/step - loss: 2.6090e-04 - val_loss: 2.2751e-04\n",
      "Epoch 81/100\n",
      "20/20 [==============================] - 4s 215ms/step - loss: 2.5018e-04 - val_loss: 4.0483e-04\n",
      "Epoch 82/100\n",
      "20/20 [==============================] - 5s 242ms/step - loss: 3.7988e-04 - val_loss: 2.4779e-04\n",
      "Epoch 83/100\n",
      "20/20 [==============================] - 4s 220ms/step - loss: 2.4763e-04 - val_loss: 2.0475e-04\n",
      "Epoch 84/100\n",
      "20/20 [==============================] - 4s 223ms/step - loss: 2.4066e-04 - val_loss: 2.7134e-04\n",
      "Epoch 85/100\n",
      "20/20 [==============================] - 4s 227ms/step - loss: 3.1804e-04 - val_loss: 3.2402e-04\n",
      "Epoch 86/100\n",
      "20/20 [==============================] - 5s 229ms/step - loss: 2.7276e-04 - val_loss: 2.5088e-04\n",
      "Epoch 87/100\n",
      "20/20 [==============================] - 4s 214ms/step - loss: 2.8109e-04 - val_loss: 2.1357e-04\n",
      "Epoch 88/100\n",
      "20/20 [==============================] - 4s 217ms/step - loss: 2.6687e-04 - val_loss: 2.8383e-04\n",
      "Epoch 89/100\n",
      "20/20 [==============================] - 5s 244ms/step - loss: 2.3189e-04 - val_loss: 3.3731e-04\n",
      "Epoch 90/100\n",
      "20/20 [==============================] - 4s 213ms/step - loss: 2.9384e-04 - val_loss: 4.0988e-04\n",
      "Epoch 91/100\n",
      "20/20 [==============================] - 4s 216ms/step - loss: 3.7370e-04 - val_loss: 2.1917e-04\n",
      "Epoch 92/100\n",
      "20/20 [==============================] - 4s 221ms/step - loss: 2.5693e-04 - val_loss: 2.2761e-04\n",
      "Epoch 93/100\n",
      "20/20 [==============================] - 5s 242ms/step - loss: 2.1886e-04 - val_loss: 3.1104e-04\n",
      "Epoch 94/100\n",
      "20/20 [==============================] - 4s 214ms/step - loss: 2.3413e-04 - val_loss: 2.7090e-04\n",
      "Epoch 95/100\n",
      "20/20 [==============================] - 4s 215ms/step - loss: 2.2068e-04 - val_loss: 2.1982e-04\n",
      "Epoch 96/100\n",
      "20/20 [==============================] - 5s 240ms/step - loss: 2.2782e-04 - val_loss: 2.1755e-04\n",
      "Epoch 97/100\n",
      "20/20 [==============================] - 4s 220ms/step - loss: 2.5033e-04 - val_loss: 1.9295e-04\n",
      "Epoch 98/100\n",
      "20/20 [==============================] - 4s 216ms/step - loss: 2.2071e-04 - val_loss: 2.1584e-04\n",
      "Epoch 99/100\n",
      "20/20 [==============================] - 4s 216ms/step - loss: 2.1105e-04 - val_loss: 1.9264e-04\n",
      "Epoch 100/100\n",
      "20/20 [==============================] - 5s 245ms/step - loss: 2.8782e-04 - val_loss: 1.8240e-04\n"
     ]
    },
    {
     "data": {
      "text/plain": [
       "<keras.callbacks.History at 0x7fa695fbab30>"
      ]
     },
     "execution_count": 115,
     "metadata": {},
     "output_type": "execute_result"
    }
   ],
   "source": [
    "model.fit(x_train,y_train,validation_data=(x_test,y_test),epochs=100,batch_size=64,verbose=1)\n"
   ]
  },
  {
   "cell_type": "code",
   "execution_count": 116,
   "id": "62f33d9d",
   "metadata": {},
   "outputs": [],
   "source": [
    "import tensorflow as tf"
   ]
  },
  {
   "cell_type": "code",
   "execution_count": 117,
   "id": "acc17611",
   "metadata": {},
   "outputs": [
    {
     "data": {
      "text/plain": [
       "'2.10.0'"
      ]
     },
     "execution_count": 117,
     "metadata": {},
     "output_type": "execute_result"
    }
   ],
   "source": [
    "tf.__version__"
   ]
  },
  {
   "cell_type": "code",
   "execution_count": 118,
   "id": "1b9401c1",
   "metadata": {},
   "outputs": [
    {
     "name": "stdout",
     "output_type": "stream",
     "text": [
      "39/39 [==============================] - 3s 41ms/step\n",
      "20/20 [==============================] - 1s 39ms/step\n"
     ]
    }
   ],
   "source": [
    "#Prediction and Performance Metrics\n",
    "train_predict = model.predict(x_train)\n",
    "test_predict = model.predict(x_test)"
   ]
  },
  {
   "cell_type": "code",
   "execution_count": 119,
   "id": "bbb5b671",
   "metadata": {},
   "outputs": [],
   "source": [
    "train_predict = scaler.inverse_transform(train_predict)\n",
    "test_predict = scaler.inverse_transform(test_predict)"
   ]
  },
  {
   "cell_type": "code",
   "execution_count": 123,
   "id": "782730a3",
   "metadata": {},
   "outputs": [
    {
     "data": {
      "text/plain": [
       "164.3857861217207"
      ]
     },
     "execution_count": 123,
     "metadata": {},
     "output_type": "execute_result"
    }
   ],
   "source": [
    "#Calculate RMSE performance metrics\n",
    "import math\n",
    "from sklearn.metrics import mean_squared_error\n",
    "math.sqrt(mean_squared_error(y_train,train_predict))"
   ]
  },
  {
   "cell_type": "code",
   "execution_count": 124,
   "id": "b5ae92b4",
   "metadata": {},
   "outputs": [
    {
     "data": {
      "text/plain": [
       "115.1921838780058"
      ]
     },
     "execution_count": 124,
     "metadata": {},
     "output_type": "execute_result"
    }
   ],
   "source": [
    "#Test Data RMSE\n",
    "math.sqrt(mean_squared_error(y_test,test_predict))"
   ]
  },
  {
   "cell_type": "code",
   "execution_count": 125,
   "id": "250b653e",
   "metadata": {},
   "outputs": [
    {
     "data": {
      "image/png": "[encoded data removed]",
      "text/plain": [
       "<Figure size 640x480 with 1 Axes>"
      ]
     },
     "metadata": {},
     "output_type": "display_data"
    }
   ],
   "source": [
    "#Shift train predictions for platting\n",
    "look_back = 100\n",
    "trainPredictPlot = numpy.empty_like(df1)\n",
    "trainPredictPlot[:,:] = np.nan\n",
    "trainPredictPlot[look_back:len(train_predict)+look_back,:] = train_predict\n",
    "\n",
    "#Shift test predictions for platting\n",
    "testPredictPlot = np.empty_like(df1)\n",
    "testPredictPlot[:,:] = np.nan\n",
    "testPredictPlot[len(train_predict)+(look_back*2)+1:len(df1)-1,:] = test_predict\n",
    "\n",
    "#Plot baseline and predictions\n",
    "plt.plot(scaler.inverse_transform(df1))\n",
    "plt.plot(trainPredictPlot)\n",
    "plt.plot(testPredictPlot)\n",
    "plt.show()\n"
   ]
  },
  {
   "cell_type": "markdown",
   "id": "8cd260b4",
   "metadata": {},
   "source": [
    "# Predict the future 30 days"
   ]
  },
  {
   "cell_type": "code",
   "execution_count": 126,
   "id": "ccd3b9d5",
   "metadata": {},
   "outputs": [
    {
     "data": {
      "text/plain": [
       "713"
      ]
     },
     "execution_count": 126,
     "metadata": {},
     "output_type": "execute_result"
    }
   ],
   "source": [
    "len(test_data)"
   ]
  },
  {
   "cell_type": "code",
   "execution_count": 127,
   "id": "ffb781cb",
   "metadata": {},
   "outputs": [
    {
     "data": {
      "text/plain": [
       "(1, 100)"
      ]
     },
     "execution_count": 127,
     "metadata": {},
     "output_type": "execute_result"
    }
   ],
   "source": [
    "x_input=test_data[613:].reshape(1,-1)\n",
    "x_input.shape"
   ]
  },
  {
   "cell_type": "code",
   "execution_count": 128,
   "id": "bc5304ce",
   "metadata": {},
   "outputs": [],
   "source": [
    "temp_input=list(x_input)\n",
    "temp_input=temp_input[0].tolist()"
   ]
  },
  {
   "cell_type": "code",
   "execution_count": 129,
   "id": "f27b9cc8",
   "metadata": {},
   "outputs": [
    {
     "data": {
      "text/plain": [
       "[0.12479575163398693,\n",
       " 0.1384803921568627,\n",
       " 0.14011437908496732,\n",
       " 0.1388888888888889,\n",
       " 0.13541666666666663,\n",
       " 0.14011437908496732,\n",
       " 0.13807189542483655,\n",
       " 0.130718954248366,\n",
       " 0.130718954248366,\n",
       " 0.12867647058823528,\n",
       " 0.11846405228758167,\n",
       " 0.14644607843137253,\n",
       " 0.1480800653594771,\n",
       " 0.159109477124183,\n",
       " 0.15992647058823523,\n",
       " 0.1578839869281045,\n",
       " 0.16441993464052285,\n",
       " 0.178921568627451,\n",
       " 0.17933006535947704,\n",
       " 0.19260620915032678,\n",
       " 0.2081290849673203,\n",
       " 0.18974673202614378,\n",
       " 0.18055555555555558,\n",
       " 0.1823937908496731,\n",
       " 0.17708333333333326,\n",
       " 0.17810457516339862,\n",
       " 0.18055555555555558,\n",
       " 0.17810457516339862,\n",
       " 0.17851307189542487,\n",
       " 0.196078431372549,\n",
       " 0.18913398692810457,\n",
       " 0.1895424836601307,\n",
       " 0.19403594771241828,\n",
       " 0.19444444444444442,\n",
       " 0.20200163398692816,\n",
       " 0.19771241830065356,\n",
       " 0.19934640522875813,\n",
       " 0.19873366013071891,\n",
       " 0.19975490196078427,\n",
       " 0.21282679738562094,\n",
       " 0.21568627450980393,\n",
       " 0.2044526143790849,\n",
       " 0.21772875816993464,\n",
       " 0.21098856209150318,\n",
       " 0.21425653594771243,\n",
       " 0.1975081699346406,\n",
       " 0.1881127450980392,\n",
       " 0.17851307189542487,\n",
       " 0.17381535947712412,\n",
       " 0.16033496732026142,\n",
       " 0.16564542483660127,\n",
       " 0.1711601307189542,\n",
       " 0.17422385620915026,\n",
       " 0.1803513071895424,\n",
       " 0.1740196078431372,\n",
       " 0.16278594771241828,\n",
       " 0.1697303921568627,\n",
       " 0.17810457516339862,\n",
       " 0.1703431372549019,\n",
       " 0.16830065359477125,\n",
       " 0.17279411764705876,\n",
       " 0.1754493464052288,\n",
       " 0.18382352941176472,\n",
       " 0.19138071895424835,\n",
       " 0.18913398692810457,\n",
       " 0.1909722222222222,\n",
       " 0.17238562091503273,\n",
       " 0.16830065359477125,\n",
       " 0.16932189542483655,\n",
       " 0.1717728758169934,\n",
       " 0.16156045751633985,\n",
       " 0.14971405228758167,\n",
       " 0.15032679738562088,\n",
       " 0.1519607843137255,\n",
       " 0.1472630718954248,\n",
       " 0.14501633986928103,\n",
       " 0.14603758169934639,\n",
       " 0.12479575163398693,\n",
       " 0.13112745098039214,\n",
       " 0.11397058823529405,\n",
       " 0.11907679738562088,\n",
       " 0.12377450980392157,\n",
       " 0.13562091503267976,\n",
       " 0.12908496732026142,\n",
       " 0.1345996732026144,\n",
       " 0.12806372549019607,\n",
       " 0.13031045751633985,\n",
       " 0.12724673202614373,\n",
       " 0.13521241830065356,\n",
       " 0.1452205882352941,\n",
       " 0.15257352941176466,\n",
       " 0.14848856209150324,\n",
       " 0.14338235294117646,\n",
       " 0.14562908496732024,\n",
       " 0.1523692810457516,\n",
       " 0.15400326797385622,\n",
       " 0.14971405228758167,\n",
       " 0.16217320261437906,\n",
       " 0.16319444444444448,\n",
       " 0.16584967320261434]"
      ]
     },
     "execution_count": 129,
     "metadata": {},
     "output_type": "execute_result"
    }
   ],
   "source": [
    "temp_input"
   ]
  },
  {
   "cell_type": "code",
   "execution_count": 131,
   "id": "175946ce",
   "metadata": {},
   "outputs": [
    {
     "name": "stdout",
     "output_type": "stream",
     "text": [
      "0 day input [0.18913399 0.18954248 0.19403595 0.19444444 0.20200163 0.19771242\n",
      " 0.19934641 0.19873366 0.1997549  0.2128268  0.21568627 0.20445261\n",
      " 0.21772876 0.21098856 0.21425654 0.19750817 0.18811275 0.17851307\n",
      " 0.17381536 0.16033497 0.16564542 0.17116013 0.17422386 0.18035131\n",
      " 0.17401961 0.16278595 0.16973039 0.17810458 0.17034314 0.16830065\n",
      " 0.17279412 0.17544935 0.18382353 0.19138072 0.18913399 0.19097222\n",
      " 0.17238562 0.16830065 0.1693219  0.17177288 0.16156046 0.14971405\n",
      " 0.1503268  0.15196078 0.14726307 0.14501634 0.14603758 0.12479575\n",
      " 0.13112745 0.11397059 0.1190768  0.12377451 0.13562092 0.12908497\n",
      " 0.13459967 0.12806373 0.13031046 0.12724673 0.13521242 0.14522059\n",
      " 0.15257353 0.14848856 0.14338235 0.14562908 0.15236928 0.15400327\n",
      " 0.14971405 0.1621732  0.16319444 0.16584967 0.162955   0.16370346\n",
      " 0.1631383  0.16213363 0.16100055 0.15986073 0.15878038 0.15779607\n",
      " 0.15692024 0.15614796 0.15546393 0.15484951 0.15428701 0.15376279\n",
      " 0.1532684  0.15280014 0.15235826 0.15194549 0.15156578 0.15122291\n",
      " 0.1509196  0.15065704 0.15043448 0.15024981 0.15009938 0.14997859\n",
      " 0.14988238 0.14980572 0.14974365 0.14969176]\n",
      "0 day output [[0.14964633]]\n",
      "1 day input [0.18954248 0.19403595 0.19444444 0.20200163 0.19771242 0.19934641\n",
      " 0.19873366 0.1997549  0.2128268  0.21568627 0.20445261 0.21772876\n",
      " 0.21098856 0.21425654 0.19750817 0.18811275 0.17851307 0.17381536\n",
      " 0.16033497 0.16564542 0.17116013 0.17422386 0.18035131 0.17401961\n",
      " 0.16278595 0.16973039 0.17810458 0.17034314 0.16830065 0.17279412\n",
      " 0.17544935 0.18382353 0.19138072 0.18913399 0.19097222 0.17238562\n",
      " 0.16830065 0.1693219  0.17177288 0.16156046 0.14971405 0.1503268\n",
      " 0.15196078 0.14726307 0.14501634 0.14603758 0.12479575 0.13112745\n",
      " 0.11397059 0.1190768  0.12377451 0.13562092 0.12908497 0.13459967\n",
      " 0.12806373 0.13031046 0.12724673 0.13521242 0.14522059 0.15257353\n",
      " 0.14848856 0.14338235 0.14562908 0.15236928 0.15400327 0.14971405\n",
      " 0.1621732  0.16319444 0.16584967 0.162955   0.16370346 0.1631383\n",
      " 0.16213363 0.16100055 0.15986073 0.15878038 0.15779607 0.15692024\n",
      " 0.15614796 0.15546393 0.15484951 0.15428701 0.15376279 0.1532684\n",
      " 0.15280014 0.15235826 0.15194549 0.15156578 0.15122291 0.1509196\n",
      " 0.15065704 0.15043448 0.15024981 0.15009938 0.14997859 0.14988238\n",
      " 0.14980572 0.14974365 0.14969176 0.14964633]\n",
      "1 day output [[0.14960429]]\n",
      "2 day input [0.19403595 0.19444444 0.20200163 0.19771242 0.19934641 0.19873366\n",
      " 0.1997549  0.2128268  0.21568627 0.20445261 0.21772876 0.21098856\n",
      " 0.21425654 0.19750817 0.18811275 0.17851307 0.17381536 0.16033497\n",
      " 0.16564542 0.17116013 0.17422386 0.18035131 0.17401961 0.16278595\n",
      " 0.16973039 0.17810458 0.17034314 0.16830065 0.17279412 0.17544935\n",
      " 0.18382353 0.19138072 0.18913399 0.19097222 0.17238562 0.16830065\n",
      " 0.1693219  0.17177288 0.16156046 0.14971405 0.1503268  0.15196078\n",
      " 0.14726307 0.14501634 0.14603758 0.12479575 0.13112745 0.11397059\n",
      " 0.1190768  0.12377451 0.13562092 0.12908497 0.13459967 0.12806373\n",
      " 0.13031046 0.12724673 0.13521242 0.14522059 0.15257353 0.14848856\n",
      " 0.14338235 0.14562908 0.15236928 0.15400327 0.14971405 0.1621732\n",
      " 0.16319444 0.16584967 0.162955   0.16370346 0.1631383  0.16213363\n",
      " 0.16100055 0.15986073 0.15878038 0.15779607 0.15692024 0.15614796\n",
      " 0.15546393 0.15484951 0.15428701 0.15376279 0.1532684  0.15280014\n",
      " 0.15235826 0.15194549 0.15156578 0.15122291 0.1509196  0.15065704\n",
      " 0.15043448 0.15024981 0.15009938 0.14997859 0.14988238 0.14980572\n",
      " 0.14974365 0.14969176 0.14964633 0.14960429]\n",
      "2 day output [[0.14956339]]\n",
      "3 day input [0.19444444 0.20200163 0.19771242 0.19934641 0.19873366 0.1997549\n",
      " 0.2128268  0.21568627 0.20445261 0.21772876 0.21098856 0.21425654\n",
      " 0.19750817 0.18811275 0.17851307 0.17381536 0.16033497 0.16564542\n",
      " 0.17116013 0.17422386 0.18035131 0.17401961 0.16278595 0.16973039\n",
      " 0.17810458 0.17034314 0.16830065 0.17279412 0.17544935 0.18382353\n",
      " 0.19138072 0.18913399 0.19097222 0.17238562 0.16830065 0.1693219\n",
      " 0.17177288 0.16156046 0.14971405 0.1503268  0.15196078 0.14726307\n",
      " 0.14501634 0.14603758 0.12479575 0.13112745 0.11397059 0.1190768\n",
      " 0.12377451 0.13562092 0.12908497 0.13459967 0.12806373 0.13031046\n",
      " 0.12724673 0.13521242 0.14522059 0.15257353 0.14848856 0.14338235\n",
      " 0.14562908 0.15236928 0.15400327 0.14971405 0.1621732  0.16319444\n",
      " 0.16584967 0.162955   0.16370346 0.1631383  0.16213363 0.16100055\n",
      " 0.15986073 0.15878038 0.15779607 0.15692024 0.15614796 0.15546393\n",
      " 0.15484951 0.15428701 0.15376279 0.1532684  0.15280014 0.15235826\n",
      " 0.15194549 0.15156578 0.15122291 0.1509196  0.15065704 0.15043448\n",
      " 0.15024981 0.15009938 0.14997859 0.14988238 0.14980572 0.14974365\n",
      " 0.14969176 0.14964633 0.14960429 0.14956339]\n",
      "3 day output [[0.14952174]]\n",
      "4 day input [0.20200163 0.19771242 0.19934641 0.19873366 0.1997549  0.2128268\n",
      " 0.21568627 0.20445261 0.21772876 0.21098856 0.21425654 0.19750817\n",
      " 0.18811275 0.17851307 0.17381536 0.16033497 0.16564542 0.17116013\n",
      " 0.17422386 0.18035131 0.17401961 0.16278595 0.16973039 0.17810458\n",
      " 0.17034314 0.16830065 0.17279412 0.17544935 0.18382353 0.19138072\n",
      " 0.18913399 0.19097222 0.17238562 0.16830065 0.1693219  0.17177288\n",
      " 0.16156046 0.14971405 0.1503268  0.15196078 0.14726307 0.14501634\n",
      " 0.14603758 0.12479575 0.13112745 0.11397059 0.1190768  0.12377451\n",
      " 0.13562092 0.12908497 0.13459967 0.12806373 0.13031046 0.12724673\n",
      " 0.13521242 0.14522059 0.15257353 0.14848856 0.14338235 0.14562908\n",
      " 0.15236928 0.15400327 0.14971405 0.1621732  0.16319444 0.16584967\n",
      " 0.162955   0.16370346 0.1631383  0.16213363 0.16100055 0.15986073\n",
      " 0.15878038 0.15779607 0.15692024 0.15614796 0.15546393 0.15484951\n",
      " 0.15428701 0.15376279 0.1532684  0.15280014 0.15235826 0.15194549\n",
      " 0.15156578 0.15122291 0.1509196  0.15065704 0.15043448 0.15024981\n",
      " 0.15009938 0.14997859 0.14988238 0.14980572 0.14974365 0.14969176\n",
      " 0.14964633 0.14960429 0.14956339 0.14952174]\n",
      "4 day output [[0.1494783]]\n",
      "5 day input [0.19771242 0.19934641 0.19873366 0.1997549  0.2128268  0.21568627\n",
      " 0.20445261 0.21772876 0.21098856 0.21425654 0.19750817 0.18811275\n",
      " 0.17851307 0.17381536 0.16033497 0.16564542 0.17116013 0.17422386\n",
      " 0.18035131 0.17401961 0.16278595 0.16973039 0.17810458 0.17034314\n",
      " 0.16830065 0.17279412 0.17544935 0.18382353 0.19138072 0.18913399\n",
      " 0.19097222 0.17238562 0.16830065 0.1693219  0.17177288 0.16156046\n",
      " 0.14971405 0.1503268  0.15196078 0.14726307 0.14501634 0.14603758\n",
      " 0.12479575 0.13112745 0.11397059 0.1190768  0.12377451 0.13562092\n",
      " 0.12908497 0.13459967 0.12806373 0.13031046 0.12724673 0.13521242\n",
      " 0.14522059 0.15257353 0.14848856 0.14338235 0.14562908 0.15236928\n",
      " 0.15400327 0.14971405 0.1621732  0.16319444 0.16584967 0.162955\n",
      " 0.16370346 0.1631383  0.16213363 0.16100055 0.15986073 0.15878038\n",
      " 0.15779607 0.15692024 0.15614796 0.15546393 0.15484951 0.15428701\n",
      " 0.15376279 0.1532684  0.15280014 0.15235826 0.15194549 0.15156578\n",
      " 0.15122291 0.1509196  0.15065704 0.15043448 0.15024981 0.15009938\n",
      " 0.14997859 0.14988238 0.14980572 0.14974365 0.14969176 0.14964633\n",
      " 0.14960429 0.14956339 0.14952174 0.1494783 ]\n",
      "5 day output [[0.14943227]]\n",
      "6 day input [0.19934641 0.19873366 0.1997549  0.2128268  0.21568627 0.20445261\n",
      " 0.21772876 0.21098856 0.21425654 0.19750817 0.18811275 0.17851307\n",
      " 0.17381536 0.16033497 0.16564542 0.17116013 0.17422386 0.18035131\n",
      " 0.17401961 0.16278595 0.16973039 0.17810458 0.17034314 0.16830065\n",
      " 0.17279412 0.17544935 0.18382353 0.19138072 0.18913399 0.19097222\n",
      " 0.17238562 0.16830065 0.1693219  0.17177288 0.16156046 0.14971405\n",
      " 0.1503268  0.15196078 0.14726307 0.14501634 0.14603758 0.12479575\n",
      " 0.13112745 0.11397059 0.1190768  0.12377451 0.13562092 0.12908497\n",
      " 0.13459967 0.12806373 0.13031046 0.12724673 0.13521242 0.14522059\n",
      " 0.15257353 0.14848856 0.14338235 0.14562908 0.15236928 0.15400327\n",
      " 0.14971405 0.1621732  0.16319444 0.16584967 0.162955   0.16370346\n",
      " 0.1631383  0.16213363 0.16100055 0.15986073 0.15878038 0.15779607\n",
      " 0.15692024 0.15614796 0.15546393 0.15484951 0.15428701 0.15376279\n",
      " 0.1532684  0.15280014 0.15235826 0.15194549 0.15156578 0.15122291\n",
      " 0.1509196  0.15065704 0.15043448 0.15024981 0.15009938 0.14997859\n",
      " 0.14988238 0.14980572 0.14974365 0.14969176 0.14964633 0.14960429\n",
      " 0.14956339 0.14952174 0.1494783  0.14943227]\n",
      "6 day output [[0.14938322]]\n",
      "7 day input [0.19873366 0.1997549  0.2128268  0.21568627 0.20445261 0.21772876\n",
      " 0.21098856 0.21425654 0.19750817 0.18811275 0.17851307 0.17381536\n",
      " 0.16033497 0.16564542 0.17116013 0.17422386 0.18035131 0.17401961\n",
      " 0.16278595 0.16973039 0.17810458 0.17034314 0.16830065 0.17279412\n",
      " 0.17544935 0.18382353 0.19138072 0.18913399 0.19097222 0.17238562\n",
      " 0.16830065 0.1693219  0.17177288 0.16156046 0.14971405 0.1503268\n",
      " 0.15196078 0.14726307 0.14501634 0.14603758 0.12479575 0.13112745\n",
      " 0.11397059 0.1190768  0.12377451 0.13562092 0.12908497 0.13459967\n",
      " 0.12806373 0.13031046 0.12724673 0.13521242 0.14522059 0.15257353\n",
      " 0.14848856 0.14338235 0.14562908 0.15236928 0.15400327 0.14971405\n",
      " 0.1621732  0.16319444 0.16584967 0.162955   0.16370346 0.1631383\n",
      " 0.16213363 0.16100055 0.15986073 0.15878038 0.15779607 0.15692024\n",
      " 0.15614796 0.15546393 0.15484951 0.15428701 0.15376279 0.1532684\n",
      " 0.15280014 0.15235826 0.15194549 0.15156578 0.15122291 0.1509196\n",
      " 0.15065704 0.15043448 0.15024981 0.15009938 0.14997859 0.14988238\n",
      " 0.14980572 0.14974365 0.14969176 0.14964633 0.14960429 0.14956339\n",
      " 0.14952174 0.1494783  0.14943227 0.14938322]\n",
      "7 day output [[0.14933099]]\n",
      "8 day input [0.1997549  0.2128268  0.21568627 0.20445261 0.21772876 0.21098856\n",
      " 0.21425654 0.19750817 0.18811275 0.17851307 0.17381536 0.16033497\n",
      " 0.16564542 0.17116013 0.17422386 0.18035131 0.17401961 0.16278595\n",
      " 0.16973039 0.17810458 0.17034314 0.16830065 0.17279412 0.17544935\n",
      " 0.18382353 0.19138072 0.18913399 0.19097222 0.17238562 0.16830065\n",
      " 0.1693219  0.17177288 0.16156046 0.14971405 0.1503268  0.15196078\n",
      " 0.14726307 0.14501634 0.14603758 0.12479575 0.13112745 0.11397059\n",
      " 0.1190768  0.12377451 0.13562092 0.12908497 0.13459967 0.12806373\n",
      " 0.13031046 0.12724673 0.13521242 0.14522059 0.15257353 0.14848856\n",
      " 0.14338235 0.14562908 0.15236928 0.15400327 0.14971405 0.1621732\n",
      " 0.16319444 0.16584967 0.162955   0.16370346 0.1631383  0.16213363\n",
      " 0.16100055 0.15986073 0.15878038 0.15779607 0.15692024 0.15614796\n",
      " 0.15546393 0.15484951 0.15428701 0.15376279 0.1532684  0.15280014\n",
      " 0.15235826 0.15194549 0.15156578 0.15122291 0.1509196  0.15065704\n",
      " 0.15043448 0.15024981 0.15009938 0.14997859 0.14988238 0.14980572\n",
      " 0.14974365 0.14969176 0.14964633 0.14960429 0.14956339 0.14952174\n",
      " 0.1494783  0.14943227 0.14938322 0.14933099]\n",
      "8 day output [[0.14927562]]\n",
      "9 day input [0.2128268  0.21568627 0.20445261 0.21772876 0.21098856 0.21425654\n",
      " 0.19750817 0.18811275 0.17851307 0.17381536 0.16033497 0.16564542\n",
      " 0.17116013 0.17422386 0.18035131 0.17401961 0.16278595 0.16973039\n",
      " 0.17810458 0.17034314 0.16830065 0.17279412 0.17544935 0.18382353\n",
      " 0.19138072 0.18913399 0.19097222 0.17238562 0.16830065 0.1693219\n",
      " 0.17177288 0.16156046 0.14971405 0.1503268  0.15196078 0.14726307\n",
      " 0.14501634 0.14603758 0.12479575 0.13112745 0.11397059 0.1190768\n",
      " 0.12377451 0.13562092 0.12908497 0.13459967 0.12806373 0.13031046\n",
      " 0.12724673 0.13521242 0.14522059 0.15257353 0.14848856 0.14338235\n",
      " 0.14562908 0.15236928 0.15400327 0.14971405 0.1621732  0.16319444\n",
      " 0.16584967 0.162955   0.16370346 0.1631383  0.16213363 0.16100055\n",
      " 0.15986073 0.15878038 0.15779607 0.15692024 0.15614796 0.15546393\n",
      " 0.15484951 0.15428701 0.15376279 0.1532684  0.15280014 0.15235826\n",
      " 0.15194549 0.15156578 0.15122291 0.1509196  0.15065704 0.15043448\n",
      " 0.15024981 0.15009938 0.14997859 0.14988238 0.14980572 0.14974365\n",
      " 0.14969176 0.14964633 0.14960429 0.14956339 0.14952174 0.1494783\n",
      " 0.14943227 0.14938322 0.14933099 0.14927562]\n",
      "9 day output [[0.14921722]]\n",
      "10 day input [0.21568627 0.20445261 0.21772876 0.21098856 0.21425654 0.19750817\n",
      " 0.18811275 0.17851307 0.17381536 0.16033497 0.16564542 0.17116013\n",
      " 0.17422386 0.18035131 0.17401961 0.16278595 0.16973039 0.17810458\n",
      " 0.17034314 0.16830065 0.17279412 0.17544935 0.18382353 0.19138072\n",
      " 0.18913399 0.19097222 0.17238562 0.16830065 0.1693219  0.17177288\n",
      " 0.16156046 0.14971405 0.1503268  0.15196078 0.14726307 0.14501634\n",
      " 0.14603758 0.12479575 0.13112745 0.11397059 0.1190768  0.12377451\n",
      " 0.13562092 0.12908497 0.13459967 0.12806373 0.13031046 0.12724673\n",
      " 0.13521242 0.14522059 0.15257353 0.14848856 0.14338235 0.14562908\n",
      " 0.15236928 0.15400327 0.14971405 0.1621732  0.16319444 0.16584967\n",
      " 0.162955   0.16370346 0.1631383  0.16213363 0.16100055 0.15986073\n",
      " 0.15878038 0.15779607 0.15692024 0.15614796 0.15546393 0.15484951\n",
      " 0.15428701 0.15376279 0.1532684  0.15280014 0.15235826 0.15194549\n",
      " 0.15156578 0.15122291 0.1509196  0.15065704 0.15043448 0.15024981\n",
      " 0.15009938 0.14997859 0.14988238 0.14980572 0.14974365 0.14969176\n",
      " 0.14964633 0.14960429 0.14956339 0.14952174 0.1494783  0.14943227\n",
      " 0.14938322 0.14933099 0.14927562 0.14921722]\n",
      "10 day output [[0.14915599]]\n",
      "11 day input [0.20445261 0.21772876 0.21098856 0.21425654 0.19750817 0.18811275\n",
      " 0.17851307 0.17381536 0.16033497 0.16564542 0.17116013 0.17422386\n",
      " 0.18035131 0.17401961 0.16278595 0.16973039 0.17810458 0.17034314\n",
      " 0.16830065 0.17279412 0.17544935 0.18382353 0.19138072 0.18913399\n",
      " 0.19097222 0.17238562 0.16830065 0.1693219  0.17177288 0.16156046\n",
      " 0.14971405 0.1503268  0.15196078 0.14726307 0.14501634 0.14603758\n",
      " 0.12479575 0.13112745 0.11397059 0.1190768  0.12377451 0.13562092\n",
      " 0.12908497 0.13459967 0.12806373 0.13031046 0.12724673 0.13521242\n",
      " 0.14522059 0.15257353 0.14848856 0.14338235 0.14562908 0.15236928\n",
      " 0.15400327 0.14971405 0.1621732  0.16319444 0.16584967 0.162955\n",
      " 0.16370346 0.1631383  0.16213363 0.16100055 0.15986073 0.15878038\n",
      " 0.15779607 0.15692024 0.15614796 0.15546393 0.15484951 0.15428701\n",
      " 0.15376279 0.1532684  0.15280014 0.15235826 0.15194549 0.15156578\n",
      " 0.15122291 0.1509196  0.15065704 0.15043448 0.15024981 0.15009938\n",
      " 0.14997859 0.14988238 0.14980572 0.14974365 0.14969176 0.14964633\n",
      " 0.14960429 0.14956339 0.14952174 0.1494783  0.14943227 0.14938322\n",
      " 0.14933099 0.14927562 0.14921722 0.14915599]\n",
      "11 day output [[0.14909215]]\n",
      "12 day input [0.21772876 0.21098856 0.21425654 0.19750817 0.18811275 0.17851307\n",
      " 0.17381536 0.16033497 0.16564542 0.17116013 0.17422386 0.18035131\n",
      " 0.17401961 0.16278595 0.16973039 0.17810458 0.17034314 0.16830065\n",
      " 0.17279412 0.17544935 0.18382353 0.19138072 0.18913399 0.19097222\n",
      " 0.17238562 0.16830065 0.1693219  0.17177288 0.16156046 0.14971405\n",
      " 0.1503268  0.15196078 0.14726307 0.14501634 0.14603758 0.12479575\n",
      " 0.13112745 0.11397059 0.1190768  0.12377451 0.13562092 0.12908497\n",
      " 0.13459967 0.12806373 0.13031046 0.12724673 0.13521242 0.14522059\n",
      " 0.15257353 0.14848856 0.14338235 0.14562908 0.15236928 0.15400327\n",
      " 0.14971405 0.1621732  0.16319444 0.16584967 0.162955   0.16370346\n",
      " 0.1631383  0.16213363 0.16100055 0.15986073 0.15878038 0.15779607\n",
      " 0.15692024 0.15614796 0.15546393 0.15484951 0.15428701 0.15376279\n",
      " 0.1532684  0.15280014 0.15235826 0.15194549 0.15156578 0.15122291\n",
      " 0.1509196  0.15065704 0.15043448 0.15024981 0.15009938 0.14997859\n",
      " 0.14988238 0.14980572 0.14974365 0.14969176 0.14964633 0.14960429\n",
      " 0.14956339 0.14952174 0.1494783  0.14943227 0.14938322 0.14933099\n",
      " 0.14927562 0.14921722 0.14915599 0.14909215]\n",
      "12 day output [[0.1490261]]\n",
      "13 day input [0.21098856 0.21425654 0.19750817 0.18811275 0.17851307 0.17381536\n",
      " 0.16033497 0.16564542 0.17116013 0.17422386 0.18035131 0.17401961\n",
      " 0.16278595 0.16973039 0.17810458 0.17034314 0.16830065 0.17279412\n",
      " 0.17544935 0.18382353 0.19138072 0.18913399 0.19097222 0.17238562\n",
      " 0.16830065 0.1693219  0.17177288 0.16156046 0.14971405 0.1503268\n",
      " 0.15196078 0.14726307 0.14501634 0.14603758 0.12479575 0.13112745\n",
      " 0.11397059 0.1190768  0.12377451 0.13562092 0.12908497 0.13459967\n",
      " 0.12806373 0.13031046 0.12724673 0.13521242 0.14522059 0.15257353\n",
      " 0.14848856 0.14338235 0.14562908 0.15236928 0.15400327 0.14971405\n",
      " 0.1621732  0.16319444 0.16584967 0.162955   0.16370346 0.1631383\n",
      " 0.16213363 0.16100055 0.15986073 0.15878038 0.15779607 0.15692024\n",
      " 0.15614796 0.15546393 0.15484951 0.15428701 0.15376279 0.1532684\n",
      " 0.15280014 0.15235826 0.15194549 0.15156578 0.15122291 0.1509196\n",
      " 0.15065704 0.15043448 0.15024981 0.15009938 0.14997859 0.14988238\n",
      " 0.14980572 0.14974365 0.14969176 0.14964633 0.14960429 0.14956339\n",
      " 0.14952174 0.1494783  0.14943227 0.14938322 0.14933099 0.14927562\n",
      " 0.14921722 0.14915599 0.14909215 0.1490261 ]\n",
      "13 day output [[0.14895806]]\n",
      "14 day input [0.21425654 0.19750817 0.18811275 0.17851307 0.17381536 0.16033497\n",
      " 0.16564542 0.17116013 0.17422386 0.18035131 0.17401961 0.16278595\n",
      " 0.16973039 0.17810458 0.17034314 0.16830065 0.17279412 0.17544935\n",
      " 0.18382353 0.19138072 0.18913399 0.19097222 0.17238562 0.16830065\n",
      " 0.1693219  0.17177288 0.16156046 0.14971405 0.1503268  0.15196078\n",
      " 0.14726307 0.14501634 0.14603758 0.12479575 0.13112745 0.11397059\n",
      " 0.1190768  0.12377451 0.13562092 0.12908497 0.13459967 0.12806373\n",
      " 0.13031046 0.12724673 0.13521242 0.14522059 0.15257353 0.14848856\n",
      " 0.14338235 0.14562908 0.15236928 0.15400327 0.14971405 0.1621732\n",
      " 0.16319444 0.16584967 0.162955   0.16370346 0.1631383  0.16213363\n",
      " 0.16100055 0.15986073 0.15878038 0.15779607 0.15692024 0.15614796\n",
      " 0.15546393 0.15484951 0.15428701 0.15376279 0.1532684  0.15280014\n",
      " 0.15235826 0.15194549 0.15156578 0.15122291 0.1509196  0.15065704\n",
      " 0.15043448 0.15024981 0.15009938 0.14997859 0.14988238 0.14980572\n",
      " 0.14974365 0.14969176 0.14964633 0.14960429 0.14956339 0.14952174\n",
      " 0.1494783  0.14943227 0.14938322 0.14933099 0.14927562 0.14921722\n",
      " 0.14915599 0.14909215 0.1490261  0.14895806]\n",
      "14 day output [[0.14888836]]\n",
      "15 day input [0.19750817 0.18811275 0.17851307 0.17381536 0.16033497 0.16564542\n",
      " 0.17116013 0.17422386 0.18035131 0.17401961 0.16278595 0.16973039\n",
      " 0.17810458 0.17034314 0.16830065 0.17279412 0.17544935 0.18382353\n",
      " 0.19138072 0.18913399 0.19097222 0.17238562 0.16830065 0.1693219\n",
      " 0.17177288 0.16156046 0.14971405 0.1503268  0.15196078 0.14726307\n",
      " 0.14501634 0.14603758 0.12479575 0.13112745 0.11397059 0.1190768\n",
      " 0.12377451 0.13562092 0.12908497 0.13459967 0.12806373 0.13031046\n",
      " 0.12724673 0.13521242 0.14522059 0.15257353 0.14848856 0.14338235\n",
      " 0.14562908 0.15236928 0.15400327 0.14971405 0.1621732  0.16319444\n",
      " 0.16584967 0.162955   0.16370346 0.1631383  0.16213363 0.16100055\n",
      " 0.15986073 0.15878038 0.15779607 0.15692024 0.15614796 0.15546393\n",
      " 0.15484951 0.15428701 0.15376279 0.1532684  0.15280014 0.15235826\n",
      " 0.15194549 0.15156578 0.15122291 0.1509196  0.15065704 0.15043448\n",
      " 0.15024981 0.15009938 0.14997859 0.14988238 0.14980572 0.14974365\n",
      " 0.14969176 0.14964633 0.14960429 0.14956339 0.14952174 0.1494783\n",
      " 0.14943227 0.14938322 0.14933099 0.14927562 0.14921722 0.14915599\n",
      " 0.14909215 0.1490261  0.14895806 0.14888836]\n",
      "15 day output [[0.14881748]]\n",
      "16 day input [0.18811275 0.17851307 0.17381536 0.16033497 0.16564542 0.17116013\n",
      " 0.17422386 0.18035131 0.17401961 0.16278595 0.16973039 0.17810458\n",
      " 0.17034314 0.16830065 0.17279412 0.17544935 0.18382353 0.19138072\n",
      " 0.18913399 0.19097222 0.17238562 0.16830065 0.1693219  0.17177288\n",
      " 0.16156046 0.14971405 0.1503268  0.15196078 0.14726307 0.14501634\n",
      " 0.14603758 0.12479575 0.13112745 0.11397059 0.1190768  0.12377451\n",
      " 0.13562092 0.12908497 0.13459967 0.12806373 0.13031046 0.12724673\n",
      " 0.13521242 0.14522059 0.15257353 0.14848856 0.14338235 0.14562908\n",
      " 0.15236928 0.15400327 0.14971405 0.1621732  0.16319444 0.16584967\n",
      " 0.162955   0.16370346 0.1631383  0.16213363 0.16100055 0.15986073\n",
      " 0.15878038 0.15779607 0.15692024 0.15614796 0.15546393 0.15484951\n",
      " 0.15428701 0.15376279 0.1532684  0.15280014 0.15235826 0.15194549\n",
      " 0.15156578 0.15122291 0.1509196  0.15065704 0.15043448 0.15024981\n",
      " 0.15009938 0.14997859 0.14988238 0.14980572 0.14974365 0.14969176\n",
      " 0.14964633 0.14960429 0.14956339 0.14952174 0.1494783  0.14943227\n",
      " 0.14938322 0.14933099 0.14927562 0.14921722 0.14915599 0.14909215\n",
      " 0.1490261  0.14895806 0.14888836 0.14881748]\n",
      "16 day output [[0.14874563]]\n",
      "17 day input [0.17851307 0.17381536 0.16033497 0.16564542 0.17116013 0.17422386\n",
      " 0.18035131 0.17401961 0.16278595 0.16973039 0.17810458 0.17034314\n",
      " 0.16830065 0.17279412 0.17544935 0.18382353 0.19138072 0.18913399\n",
      " 0.19097222 0.17238562 0.16830065 0.1693219  0.17177288 0.16156046\n",
      " 0.14971405 0.1503268  0.15196078 0.14726307 0.14501634 0.14603758\n",
      " 0.12479575 0.13112745 0.11397059 0.1190768  0.12377451 0.13562092\n",
      " 0.12908497 0.13459967 0.12806373 0.13031046 0.12724673 0.13521242\n",
      " 0.14522059 0.15257353 0.14848856 0.14338235 0.14562908 0.15236928\n",
      " 0.15400327 0.14971405 0.1621732  0.16319444 0.16584967 0.162955\n",
      " 0.16370346 0.1631383  0.16213363 0.16100055 0.15986073 0.15878038\n",
      " 0.15779607 0.15692024 0.15614796 0.15546393 0.15484951 0.15428701\n",
      " 0.15376279 0.1532684  0.15280014 0.15235826 0.15194549 0.15156578\n",
      " 0.15122291 0.1509196  0.15065704 0.15043448 0.15024981 0.15009938\n",
      " 0.14997859 0.14988238 0.14980572 0.14974365 0.14969176 0.14964633\n",
      " 0.14960429 0.14956339 0.14952174 0.1494783  0.14943227 0.14938322\n",
      " 0.14933099 0.14927562 0.14921722 0.14915599 0.14909215 0.1490261\n",
      " 0.14895806 0.14888836 0.14881748 0.14874563]\n",
      "17 day output [[0.1486733]]\n",
      "18 day input [0.17381536 0.16033497 0.16564542 0.17116013 0.17422386 0.18035131\n",
      " 0.17401961 0.16278595 0.16973039 0.17810458 0.17034314 0.16830065\n",
      " 0.17279412 0.17544935 0.18382353 0.19138072 0.18913399 0.19097222\n",
      " 0.17238562 0.16830065 0.1693219  0.17177288 0.16156046 0.14971405\n",
      " 0.1503268  0.15196078 0.14726307 0.14501634 0.14603758 0.12479575\n",
      " 0.13112745 0.11397059 0.1190768  0.12377451 0.13562092 0.12908497\n",
      " 0.13459967 0.12806373 0.13031046 0.12724673 0.13521242 0.14522059\n",
      " 0.15257353 0.14848856 0.14338235 0.14562908 0.15236928 0.15400327\n",
      " 0.14971405 0.1621732  0.16319444 0.16584967 0.162955   0.16370346\n",
      " 0.1631383  0.16213363 0.16100055 0.15986073 0.15878038 0.15779607\n",
      " 0.15692024 0.15614796 0.15546393 0.15484951 0.15428701 0.15376279\n",
      " 0.1532684  0.15280014 0.15235826 0.15194549 0.15156578 0.15122291\n",
      " 0.1509196  0.15065704 0.15043448 0.15024981 0.15009938 0.14997859\n",
      " 0.14988238 0.14980572 0.14974365 0.14969176 0.14964633 0.14960429\n",
      " 0.14956339 0.14952174 0.1494783  0.14943227 0.14938322 0.14933099\n",
      " 0.14927562 0.14921722 0.14915599 0.14909215 0.1490261  0.14895806\n",
      " 0.14888836 0.14881748 0.14874563 0.1486733 ]\n",
      "18 day output [[0.14860077]]\n",
      "19 day input [0.16033497 0.16564542 0.17116013 0.17422386 0.18035131 0.17401961\n",
      " 0.16278595 0.16973039 0.17810458 0.17034314 0.16830065 0.17279412\n",
      " 0.17544935 0.18382353 0.19138072 0.18913399 0.19097222 0.17238562\n",
      " 0.16830065 0.1693219  0.17177288 0.16156046 0.14971405 0.1503268\n",
      " 0.15196078 0.14726307 0.14501634 0.14603758 0.12479575 0.13112745\n",
      " 0.11397059 0.1190768  0.12377451 0.13562092 0.12908497 0.13459967\n",
      " 0.12806373 0.13031046 0.12724673 0.13521242 0.14522059 0.15257353\n",
      " 0.14848856 0.14338235 0.14562908 0.15236928 0.15400327 0.14971405\n",
      " 0.1621732  0.16319444 0.16584967 0.162955   0.16370346 0.1631383\n",
      " 0.16213363 0.16100055 0.15986073 0.15878038 0.15779607 0.15692024\n",
      " 0.15614796 0.15546393 0.15484951 0.15428701 0.15376279 0.1532684\n",
      " 0.15280014 0.15235826 0.15194549 0.15156578 0.15122291 0.1509196\n",
      " 0.15065704 0.15043448 0.15024981 0.15009938 0.14997859 0.14988238\n",
      " 0.14980572 0.14974365 0.14969176 0.14964633 0.14960429 0.14956339\n",
      " 0.14952174 0.1494783  0.14943227 0.14938322 0.14933099 0.14927562\n",
      " 0.14921722 0.14915599 0.14909215 0.1490261  0.14895806 0.14888836\n",
      " 0.14881748 0.14874563 0.1486733  0.14860077]\n",
      "19 day output [[0.14852847]]\n",
      "20 day input [0.16564542 0.17116013 0.17422386 0.18035131 0.17401961 0.16278595\n",
      " 0.16973039 0.17810458 0.17034314 0.16830065 0.17279412 0.17544935\n",
      " 0.18382353 0.19138072 0.18913399 0.19097222 0.17238562 0.16830065\n",
      " 0.1693219  0.17177288 0.16156046 0.14971405 0.1503268  0.15196078\n",
      " 0.14726307 0.14501634 0.14603758 0.12479575 0.13112745 0.11397059\n",
      " 0.1190768  0.12377451 0.13562092 0.12908497 0.13459967 0.12806373\n",
      " 0.13031046 0.12724673 0.13521242 0.14522059 0.15257353 0.14848856\n",
      " 0.14338235 0.14562908 0.15236928 0.15400327 0.14971405 0.1621732\n",
      " 0.16319444 0.16584967 0.162955   0.16370346 0.1631383  0.16213363\n",
      " 0.16100055 0.15986073 0.15878038 0.15779607 0.15692024 0.15614796\n",
      " 0.15546393 0.15484951 0.15428701 0.15376279 0.1532684  0.15280014\n",
      " 0.15235826 0.15194549 0.15156578 0.15122291 0.1509196  0.15065704\n",
      " 0.15043448 0.15024981 0.15009938 0.14997859 0.14988238 0.14980572\n",
      " 0.14974365 0.14969176 0.14964633 0.14960429 0.14956339 0.14952174\n",
      " 0.1494783  0.14943227 0.14938322 0.14933099 0.14927562 0.14921722\n",
      " 0.14915599 0.14909215 0.1490261  0.14895806 0.14888836 0.14881748\n",
      " 0.14874563 0.1486733  0.14860077 0.14852847]\n",
      "20 day output [[0.14845671]]\n",
      "21 day input [0.17116013 0.17422386 0.18035131 0.17401961 0.16278595 0.16973039\n",
      " 0.17810458 0.17034314 0.16830065 0.17279412 0.17544935 0.18382353\n",
      " 0.19138072 0.18913399 0.19097222 0.17238562 0.16830065 0.1693219\n",
      " 0.17177288 0.16156046 0.14971405 0.1503268  0.15196078 0.14726307\n",
      " 0.14501634 0.14603758 0.12479575 0.13112745 0.11397059 0.1190768\n",
      " 0.12377451 0.13562092 0.12908497 0.13459967 0.12806373 0.13031046\n",
      " 0.12724673 0.13521242 0.14522059 0.15257353 0.14848856 0.14338235\n",
      " 0.14562908 0.15236928 0.15400327 0.14971405 0.1621732  0.16319444\n",
      " 0.16584967 0.162955   0.16370346 0.1631383  0.16213363 0.16100055\n",
      " 0.15986073 0.15878038 0.15779607 0.15692024 0.15614796 0.15546393\n",
      " 0.15484951 0.15428701 0.15376279 0.1532684  0.15280014 0.15235826\n",
      " 0.15194549 0.15156578 0.15122291 0.1509196  0.15065704 0.15043448\n",
      " 0.15024981 0.15009938 0.14997859 0.14988238 0.14980572 0.14974365\n",
      " 0.14969176 0.14964633 0.14960429 0.14956339 0.14952174 0.1494783\n",
      " 0.14943227 0.14938322 0.14933099 0.14927562 0.14921722 0.14915599\n",
      " 0.14909215 0.1490261  0.14895806 0.14888836 0.14881748 0.14874563\n",
      " 0.1486733  0.14860077 0.14852847 0.14845671]\n",
      "21 day output [[0.14838578]]\n",
      "22 day input [0.17422386 0.18035131 0.17401961 0.16278595 0.16973039 0.17810458\n",
      " 0.17034314 0.16830065 0.17279412 0.17544935 0.18382353 0.19138072\n",
      " 0.18913399 0.19097222 0.17238562 0.16830065 0.1693219  0.17177288\n",
      " 0.16156046 0.14971405 0.1503268  0.15196078 0.14726307 0.14501634\n",
      " 0.14603758 0.12479575 0.13112745 0.11397059 0.1190768  0.12377451\n",
      " 0.13562092 0.12908497 0.13459967 0.12806373 0.13031046 0.12724673\n",
      " 0.13521242 0.14522059 0.15257353 0.14848856 0.14338235 0.14562908\n",
      " 0.15236928 0.15400327 0.14971405 0.1621732  0.16319444 0.16584967\n",
      " 0.162955   0.16370346 0.1631383  0.16213363 0.16100055 0.15986073\n",
      " 0.15878038 0.15779607 0.15692024 0.15614796 0.15546393 0.15484951\n",
      " 0.15428701 0.15376279 0.1532684  0.15280014 0.15235826 0.15194549\n",
      " 0.15156578 0.15122291 0.1509196  0.15065704 0.15043448 0.15024981\n",
      " 0.15009938 0.14997859 0.14988238 0.14980572 0.14974365 0.14969176\n",
      " 0.14964633 0.14960429 0.14956339 0.14952174 0.1494783  0.14943227\n",
      " 0.14938322 0.14933099 0.14927562 0.14921722 0.14915599 0.14909215\n",
      " 0.1490261  0.14895806 0.14888836 0.14881748 0.14874563 0.1486733\n",
      " 0.14860077 0.14852847 0.14845671 0.14838578]\n",
      "22 day output [[0.14831594]]\n",
      "23 day input [0.18035131 0.17401961 0.16278595 0.16973039 0.17810458 0.17034314\n",
      " 0.16830065 0.17279412 0.17544935 0.18382353 0.19138072 0.18913399\n",
      " 0.19097222 0.17238562 0.16830065 0.1693219  0.17177288 0.16156046\n",
      " 0.14971405 0.1503268  0.15196078 0.14726307 0.14501634 0.14603758\n",
      " 0.12479575 0.13112745 0.11397059 0.1190768  0.12377451 0.13562092\n",
      " 0.12908497 0.13459967 0.12806373 0.13031046 0.12724673 0.13521242\n",
      " 0.14522059 0.15257353 0.14848856 0.14338235 0.14562908 0.15236928\n",
      " 0.15400327 0.14971405 0.1621732  0.16319444 0.16584967 0.162955\n",
      " 0.16370346 0.1631383  0.16213363 0.16100055 0.15986073 0.15878038\n",
      " 0.15779607 0.15692024 0.15614796 0.15546393 0.15484951 0.15428701\n",
      " 0.15376279 0.1532684  0.15280014 0.15235826 0.15194549 0.15156578\n",
      " 0.15122291 0.1509196  0.15065704 0.15043448 0.15024981 0.15009938\n",
      " 0.14997859 0.14988238 0.14980572 0.14974365 0.14969176 0.14964633\n",
      " 0.14960429 0.14956339 0.14952174 0.1494783  0.14943227 0.14938322\n",
      " 0.14933099 0.14927562 0.14921722 0.14915599 0.14909215 0.1490261\n",
      " 0.14895806 0.14888836 0.14881748 0.14874563 0.1486733  0.14860077\n",
      " 0.14852847 0.14845671 0.14838578 0.14831594]\n",
      "23 day output [[0.14824745]]\n",
      "24 day input [0.17401961 0.16278595 0.16973039 0.17810458 0.17034314 0.16830065\n",
      " 0.17279412 0.17544935 0.18382353 0.19138072 0.18913399 0.19097222\n",
      " 0.17238562 0.16830065 0.1693219  0.17177288 0.16156046 0.14971405\n",
      " 0.1503268  0.15196078 0.14726307 0.14501634 0.14603758 0.12479575\n",
      " 0.13112745 0.11397059 0.1190768  0.12377451 0.13562092 0.12908497\n",
      " 0.13459967 0.12806373 0.13031046 0.12724673 0.13521242 0.14522059\n",
      " 0.15257353 0.14848856 0.14338235 0.14562908 0.15236928 0.15400327\n",
      " 0.14971405 0.1621732  0.16319444 0.16584967 0.162955   0.16370346\n",
      " 0.1631383  0.16213363 0.16100055 0.15986073 0.15878038 0.15779607\n",
      " 0.15692024 0.15614796 0.15546393 0.15484951 0.15428701 0.15376279\n",
      " 0.1532684  0.15280014 0.15235826 0.15194549 0.15156578 0.15122291\n",
      " 0.1509196  0.15065704 0.15043448 0.15024981 0.15009938 0.14997859\n",
      " 0.14988238 0.14980572 0.14974365 0.14969176 0.14964633 0.14960429\n",
      " 0.14956339 0.14952174 0.1494783  0.14943227 0.14938322 0.14933099\n",
      " 0.14927562 0.14921722 0.14915599 0.14909215 0.1490261  0.14895806\n",
      " 0.14888836 0.14881748 0.14874563 0.1486733  0.14860077 0.14852847\n",
      " 0.14845671 0.14838578 0.14831594 0.14824745]\n",
      "24 day output [[0.14818051]]\n",
      "25 day input [0.16278595 0.16973039 0.17810458 0.17034314 0.16830065 0.17279412\n",
      " 0.17544935 0.18382353 0.19138072 0.18913399 0.19097222 0.17238562\n",
      " 0.16830065 0.1693219  0.17177288 0.16156046 0.14971405 0.1503268\n",
      " 0.15196078 0.14726307 0.14501634 0.14603758 0.12479575 0.13112745\n",
      " 0.11397059 0.1190768  0.12377451 0.13562092 0.12908497 0.13459967\n",
      " 0.12806373 0.13031046 0.12724673 0.13521242 0.14522059 0.15257353\n",
      " 0.14848856 0.14338235 0.14562908 0.15236928 0.15400327 0.14971405\n",
      " 0.1621732  0.16319444 0.16584967 0.162955   0.16370346 0.1631383\n",
      " 0.16213363 0.16100055 0.15986073 0.15878038 0.15779607 0.15692024\n",
      " 0.15614796 0.15546393 0.15484951 0.15428701 0.15376279 0.1532684\n",
      " 0.15280014 0.15235826 0.15194549 0.15156578 0.15122291 0.1509196\n",
      " 0.15065704 0.15043448 0.15024981 0.15009938 0.14997859 0.14988238\n",
      " 0.14980572 0.14974365 0.14969176 0.14964633 0.14960429 0.14956339\n",
      " 0.14952174 0.1494783  0.14943227 0.14938322 0.14933099 0.14927562\n",
      " 0.14921722 0.14915599 0.14909215 0.1490261  0.14895806 0.14888836\n",
      " 0.14881748 0.14874563 0.1486733  0.14860077 0.14852847 0.14845671\n",
      " 0.14838578 0.14831594 0.14824745 0.14818051]\n",
      "25 day output [[0.14811534]]\n",
      "26 day input [0.16973039 0.17810458 0.17034314 0.16830065 0.17279412 0.17544935\n",
      " 0.18382353 0.19138072 0.18913399 0.19097222 0.17238562 0.16830065\n",
      " 0.1693219  0.17177288 0.16156046 0.14971405 0.1503268  0.15196078\n",
      " 0.14726307 0.14501634 0.14603758 0.12479575 0.13112745 0.11397059\n",
      " 0.1190768  0.12377451 0.13562092 0.12908497 0.13459967 0.12806373\n",
      " 0.13031046 0.12724673 0.13521242 0.14522059 0.15257353 0.14848856\n",
      " 0.14338235 0.14562908 0.15236928 0.15400327 0.14971405 0.1621732\n",
      " 0.16319444 0.16584967 0.162955   0.16370346 0.1631383  0.16213363\n",
      " 0.16100055 0.15986073 0.15878038 0.15779607 0.15692024 0.15614796\n",
      " 0.15546393 0.15484951 0.15428701 0.15376279 0.1532684  0.15280014\n",
      " 0.15235826 0.15194549 0.15156578 0.15122291 0.1509196  0.15065704\n",
      " 0.15043448 0.15024981 0.15009938 0.14997859 0.14988238 0.14980572\n",
      " 0.14974365 0.14969176 0.14964633 0.14960429 0.14956339 0.14952174\n",
      " 0.1494783  0.14943227 0.14938322 0.14933099 0.14927562 0.14921722\n",
      " 0.14915599 0.14909215 0.1490261  0.14895806 0.14888836 0.14881748\n",
      " 0.14874563 0.1486733  0.14860077 0.14852847 0.14845671 0.14838578\n",
      " 0.14831594 0.14824745 0.14818051 0.14811534]\n",
      "26 day output [[0.14805195]]\n",
      "27 day input [0.17810458 0.17034314 0.16830065 0.17279412 0.17544935 0.18382353\n",
      " 0.19138072 0.18913399 0.19097222 0.17238562 0.16830065 0.1693219\n",
      " 0.17177288 0.16156046 0.14971405 0.1503268  0.15196078 0.14726307\n",
      " 0.14501634 0.14603758 0.12479575 0.13112745 0.11397059 0.1190768\n",
      " 0.12377451 0.13562092 0.12908497 0.13459967 0.12806373 0.13031046\n",
      " 0.12724673 0.13521242 0.14522059 0.15257353 0.14848856 0.14338235\n",
      " 0.14562908 0.15236928 0.15400327 0.14971405 0.1621732  0.16319444\n",
      " 0.16584967 0.162955   0.16370346 0.1631383  0.16213363 0.16100055\n",
      " 0.15986073 0.15878038 0.15779607 0.15692024 0.15614796 0.15546393\n",
      " 0.15484951 0.15428701 0.15376279 0.1532684  0.15280014 0.15235826\n",
      " 0.15194549 0.15156578 0.15122291 0.1509196  0.15065704 0.15043448\n",
      " 0.15024981 0.15009938 0.14997859 0.14988238 0.14980572 0.14974365\n",
      " 0.14969176 0.14964633 0.14960429 0.14956339 0.14952174 0.1494783\n",
      " 0.14943227 0.14938322 0.14933099 0.14927562 0.14921722 0.14915599\n",
      " 0.14909215 0.1490261  0.14895806 0.14888836 0.14881748 0.14874563\n",
      " 0.1486733  0.14860077 0.14852847 0.14845671 0.14838578 0.14831594\n",
      " 0.14824745 0.14818051 0.14811534 0.14805195]\n",
      "27 day output [[0.14799048]]\n",
      "28 day input [0.17034314 0.16830065 0.17279412 0.17544935 0.18382353 0.19138072\n",
      " 0.18913399 0.19097222 0.17238562 0.16830065 0.1693219  0.17177288\n",
      " 0.16156046 0.14971405 0.1503268  0.15196078 0.14726307 0.14501634\n",
      " 0.14603758 0.12479575 0.13112745 0.11397059 0.1190768  0.12377451\n",
      " 0.13562092 0.12908497 0.13459967 0.12806373 0.13031046 0.12724673\n",
      " 0.13521242 0.14522059 0.15257353 0.14848856 0.14338235 0.14562908\n",
      " 0.15236928 0.15400327 0.14971405 0.1621732  0.16319444 0.16584967\n",
      " 0.162955   0.16370346 0.1631383  0.16213363 0.16100055 0.15986073\n",
      " 0.15878038 0.15779607 0.15692024 0.15614796 0.15546393 0.15484951\n",
      " 0.15428701 0.15376279 0.1532684  0.15280014 0.15235826 0.15194549\n",
      " 0.15156578 0.15122291 0.1509196  0.15065704 0.15043448 0.15024981\n",
      " 0.15009938 0.14997859 0.14988238 0.14980572 0.14974365 0.14969176\n",
      " 0.14964633 0.14960429 0.14956339 0.14952174 0.1494783  0.14943227\n",
      " 0.14938322 0.14933099 0.14927562 0.14921722 0.14915599 0.14909215\n",
      " 0.1490261  0.14895806 0.14888836 0.14881748 0.14874563 0.1486733\n",
      " 0.14860077 0.14852847 0.14845671 0.14838578 0.14831594 0.14824745\n",
      " 0.14818051 0.14811534 0.14805195 0.14799048]\n",
      "28 day output [[0.14793108]]\n",
      "29 day input [0.16830065 0.17279412 0.17544935 0.18382353 0.19138072 0.18913399\n",
      " 0.19097222 0.17238562 0.16830065 0.1693219  0.17177288 0.16156046\n",
      " 0.14971405 0.1503268  0.15196078 0.14726307 0.14501634 0.14603758\n",
      " 0.12479575 0.13112745 0.11397059 0.1190768  0.12377451 0.13562092\n",
      " 0.12908497 0.13459967 0.12806373 0.13031046 0.12724673 0.13521242\n",
      " 0.14522059 0.15257353 0.14848856 0.14338235 0.14562908 0.15236928\n",
      " 0.15400327 0.14971405 0.1621732  0.16319444 0.16584967 0.162955\n",
      " 0.16370346 0.1631383  0.16213363 0.16100055 0.15986073 0.15878038\n",
      " 0.15779607 0.15692024 0.15614796 0.15546393 0.15484951 0.15428701\n",
      " 0.15376279 0.1532684  0.15280014 0.15235826 0.15194549 0.15156578\n",
      " 0.15122291 0.1509196  0.15065704 0.15043448 0.15024981 0.15009938\n",
      " 0.14997859 0.14988238 0.14980572 0.14974365 0.14969176 0.14964633\n",
      " 0.14960429 0.14956339 0.14952174 0.1494783  0.14943227 0.14938322\n",
      " 0.14933099 0.14927562 0.14921722 0.14915599 0.14909215 0.1490261\n",
      " 0.14895806 0.14888836 0.14881748 0.14874563 0.1486733  0.14860077\n",
      " 0.14852847 0.14845671 0.14838578 0.14831594 0.14824745 0.14818051\n",
      " 0.14811534 0.14805195 0.14799048 0.14793108]\n",
      "29 day output [[0.14787358]]\n",
      "[[0.1496463268995285], [0.14960429072380066], [0.14956338703632355], [0.14952173829078674], [0.14947830140590668], [0.14943227171897888], [0.14938321709632874], [0.1493309885263443], [0.14927561581134796], [0.14921721816062927], [0.14915598928928375], [0.1490921527147293], [0.14902609586715698], [0.14895805716514587], [0.14888836443424225], [0.14881747961044312], [0.14874562621116638], [0.14867329597473145], [0.148600772023201], [0.14852847158908844], [0.14845670759677887], [0.14838577806949615], [0.1483159363269806], [0.14824745059013367], [0.1481805145740509], [0.148115336894989], [0.14805194735527039], [0.14799048006534576], [0.1479310840368271], [0.14787358045578003]]\n"
     ]
    }
   ],
   "source": [
    "# demonstrate prediction for next 30 days\n",
    "from numpy import array\n",
    "\n",
    "lst_output=[]\n",
    "n_steps=100\n",
    "i=0\n",
    "while(i<30):\n",
    "    \n",
    "    if(len(temp_input)>100):\n",
    "        #print(temp_input)\n",
    "        x_input=np.array(temp_input[1:])\n",
    "        print(\"{} day input {}\".format(i,x_input))\n",
    "        x_input=x_input.reshape(1,-1)\n",
    "        x_input = x_input.reshape((1, n_steps, 1))\n",
    "        #print(x_input)\n",
    "        yhat = model.predict(x_input, verbose=0)\n",
    "        print(\"{} day output {}\".format(i,yhat))\n",
    "        temp_input.extend(yhat[0].tolist())\n",
    "        temp_input=temp_input[1:]\n",
    "        #print(temp_input)\n",
    "        lst_output.extend(yhat.tolist())\n",
    "        i=i+1\n",
    "    else:\n",
    "        x_input = x_input.reshape((1, n_steps,1))\n",
    "        yhat = model.predict(x_input, verbose=0)\n",
    "        print(yhat[0])\n",
    "        temp_input.extend(yhat[0].tolist())\n",
    "        print(len(temp_input))\n",
    "        lst_output.extend(yhat.tolist())\n",
    "        i=i+1\n",
    "    \n",
    "\n",
    "print(lst_output)"
   ]
  },
  {
   "cell_type": "code",
   "execution_count": 132,
   "id": "16932ee1",
   "metadata": {},
   "outputs": [],
   "source": [
    "day_new = np.arange(1,101)\n",
    "day_pred = np.arange(101,131)"
   ]
  },
  {
   "cell_type": "code",
   "execution_count": 133,
   "id": "7e67d90f",
   "metadata": {},
   "outputs": [],
   "source": [
    "import matplotlib.pyplot as plt"
   ]
  },
  {
   "cell_type": "code",
   "execution_count": 134,
   "id": "ded15e6c",
   "metadata": {},
   "outputs": [
    {
     "data": {
      "text/plain": [
       "2035"
      ]
     },
     "execution_count": 134,
     "metadata": {},
     "output_type": "execute_result"
    }
   ],
   "source": [
    "len(df1)"
   ]
  },
  {
   "cell_type": "code",
   "execution_count": 136,
   "id": "483d8fc7",
   "metadata": {},
   "outputs": [],
   "source": [
    "df3 = df1.tolist()\n",
    "df3.extend(lst_output)"
   ]
  },
  {
   "cell_type": "code",
   "execution_count": 139,
   "id": "a80d3bb9",
   "metadata": {},
   "outputs": [
    {
     "data": {
      "text/plain": [
       "[<matplotlib.lines.Line2D at 0x7fa6968b3760>]"
      ]
     },
     "execution_count": 139,
     "metadata": {},
     "output_type": "execute_result"
    },
    {
     "data": {
      "image/png": "[encoded data removed]",
      "text/plain": [
       "<Figure size 640x480 with 1 Axes>"
      ]
     },
     "metadata": {},
     "output_type": "display_data"
    }
   ],
   "source": [
    "plt.plot(day_new,scaler.inverse_transform(df1[1935:]))\n",
    "plt.plot(day_pred,scaler.inverse_transform(lst_output))"
   ]
  },
  {
   "cell_type": "code",
   "execution_count": 144,
   "id": "443a10e6",
   "metadata": {},
   "outputs": [
    {
     "data": {
      "text/plain": [
       "[<matplotlib.lines.Line2D at 0x7fa696bc4ee0>]"
      ]
     },
     "execution_count": 144,
     "metadata": {},
     "output_type": "execute_result"
    },
    {
     "data": {
      "image/png": "[encoded data removed]",
      "text/plain": [
       "<Figure size 640x480 with 1 Axes>"
      ]
     },
     "metadata": {},
     "output_type": "display_data"
    }
   ],
   "source": [
    "df3=df1.tolist()\n",
    "df3.extend(lst_output)\n",
    "plt.plot(df3[2000:])"
   ]
  },
  {
   "cell_type": "code",
   "execution_count": 145,
   "id": "6d373775",
   "metadata": {},
   "outputs": [],
   "source": [
    "df3=scaler.inverse_transform(df3).tolist()"
   ]
  },
  {
   "cell_type": "code",
   "execution_count": 146,
   "id": "bb205a3b",
   "metadata": {},
   "outputs": [
    {
     "data": {
      "text/plain": [
       "[<matplotlib.lines.Line2D at 0x7fa69692f910>]"
      ]
     },
     "execution_count": 146,
     "metadata": {},
     "output_type": "execute_result"
    },
    {
     "data": {
      "image/png": "[encoded data removed]",
      "text/plain": [
       "<Figure size 640x480 with 1 Axes>"
      ]
     },
     "metadata": {},
     "output_type": "display_data"
    }
   ],
   "source": [
    "plt.plot(df3)"
   ]
  },
  {
   "cell_type": "code",
   "execution_count": null,
   "id": "527b89f2",
   "metadata": {},
   "outputs": [],
   "source": []
  }
 ],
 "metadata": {
  "kernelspec": {
   "display_name": "Python 3 (ipykernel)",
   "language": "python",
   "name": "python3"
  },
  "language_info": {
   "codemirror_mode": {
    "name": "ipython",
    "version": 3
   },
   "file_extension": ".py",
   "mimetype": "text/x-python",
   "name": "python",
   "nbconvert_exporter": "python",
   "pygments_lexer": "ipython3",
   "version": "3.10.9"
  }
 },
 "nbformat": 4,
 "nbformat_minor": 5
}
